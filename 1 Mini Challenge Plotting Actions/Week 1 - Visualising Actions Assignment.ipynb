{
 "cells": [
  {
   "cell_type": "markdown",
   "metadata": {},
   "source": [
    "## Was Messi the best dribbler at World Cup 2018?"
   ]
  },
  {
   "cell_type": "code",
   "execution_count": 1,
   "metadata": {},
   "outputs": [],
   "source": [
    "import os\n",
    "import pandas as pd\n",
    "import numpy as np\n",
    "import math\n",
    "import json\n",
    "\n",
    "# Counter's useful for creating quick histogram counts of things (e.g. like event types within Statsbomb data)\n",
    "from collections import Counter\n",
    "\n",
    "# plotting libraries\n",
    "from mplsoccer.pitch import Pitch, add_image\n",
    "from mplsoccer.statsbomb import read_event, read_lineup, EVENT_SLUG, LINEUP_SLUG\n",
    "import matplotlib.pyplot as plt\n",
    "\n",
    "# pprint helps to look at JSON hierarchies\n",
    "import pprint as pp\n",
    "\n",
    "pd.set_option('display.max_rows', 500)"
   ]
  },
  {
   "cell_type": "markdown",
   "metadata": {},
   "source": [
    "### Repos"
   ]
  },
  {
   "cell_type": "code",
   "execution_count": 2,
   "metadata": {},
   "outputs": [],
   "source": [
    "statsbomb_repo = '/Users/christian/Desktop/University/Birkbeck MSc Applied Statistics/Football/Data/Statsbomb/open-data-master/data'\n",
    "statsbomb_data = os.listdir(statsbomb_repo)"
   ]
  },
  {
   "cell_type": "markdown",
   "metadata": {},
   "source": [
    "### Helper Functions"
   ]
  },
  {
   "cell_type": "code",
   "execution_count": 3,
   "metadata": {},
   "outputs": [],
   "source": [
    "def event_lookup(lst_events, Id):\n",
    "    return [j for i in lst_events for j in i if j.get('id') == Id][0]\n",
    "\n",
    "def carry_dribble_mapping(lst_events, player):\n",
    "    \"\"\"\n",
    "    Facinating - a dribble may link to multiple carries\n",
    "    Carries can happen before and after a take-on\n",
    "    So we can plot where the player was for the take on, and where the first carry started, and the second carry finished\n",
    "    \"\"\"\n",
    "    \n",
    "    # getting all carries from list of all events\n",
    "    carries = [j for i in lst_events for j in i if j.get('type').get('name') == 'Carry']\n",
    "    \n",
    "    # filtering all carries so we're just looking at carries performed by a specific player (quickens up the next bit)\n",
    "    player_carries = [i for i in carries if i.get('player').get('name') == player]\n",
    "    \n",
    "    # columns for final dataframe\n",
    "    carry_cols = ['dribbleId','carryId','dribble_start_x','dribble_start_y','dribble_end_x','dribble_end_y','dribble_duration']\n",
    "    \n",
    "    # nested list comprehension to map carries to dribbles\n",
    "    dribble_mapping = [[j, i.get('id'),i.get('location')[0],i.get('location')[1],i.get('carry').get('end_location')[0],i.get('carry').get('end_location')[1],i.get('duration')] for i in player_carries for j in i.get('related_events') if event_lookup(lst_events, j).get('type').get('name') == 'Dribble']\n",
    "    \n",
    "    # outputting mapping table\n",
    "    return pd.DataFrame(dribble_mapping, columns=carry_cols)"
   ]
  },
  {
   "cell_type": "markdown",
   "metadata": {},
   "source": [
    "### Elo Attack / Elo Defence Functions"
   ]
  },
  {
   "cell_type": "code",
   "execution_count": 4,
   "metadata": {},
   "outputs": [],
   "source": [
    "def expected_win(r1, r2):\n",
    "    \"\"\"\n",
    "    Expected probability of player 1 beating player 2\n",
    "    if player 1 has rating 1 (r1) and player 2 has rating 2 (r2)\n",
    "    \"\"\"\n",
    "    return 1.0 / (1 + math.pow(10, (r2-r1)/400))\n",
    "\n",
    "def update_rating(R, k, P, d):\n",
    "    \"\"\"\n",
    "    d = 1 = WIN\n",
    "    d = 0 = LOSS\n",
    "    \"\"\"\n",
    "    return R + k*(d-P)"
   ]
  },
  {
   "cell_type": "code",
   "execution_count": 5,
   "metadata": {},
   "outputs": [],
   "source": [
    "def elo(Ra, Rb, k, d):\n",
    "    \"\"\"\n",
    "    d = 1 when player A wins\n",
    "    d = 0 when player B wins\n",
    "    \"\"\"\n",
    "    \n",
    "    Pa = expected_win(Ra, Rb)\n",
    "    Pb = expected_win(Rb, Ra)\n",
    "    \n",
    "    # update if A wins\n",
    "    if d == 1:\n",
    "        Ra = update_rating(Ra, k, Pa, d)\n",
    "        Rb = update_rating(Rb, k, Pb, d-1)\n",
    "    \n",
    "    # update if B wins\n",
    "    elif d == 0:\n",
    "        Ra = update_rating(Ra, k, Pa, d)\n",
    "        Rb = update_rating(Rb, k, Pb, d+1)\n",
    "    \n",
    "    return Pa, Pb, Ra, Rb"
   ]
  },
  {
   "cell_type": "code",
   "execution_count": 6,
   "metadata": {},
   "outputs": [],
   "source": [
    "def elo_attack_defence_sequence(things, initial_rating, k, results):\n",
    "    \"\"\"\n",
    "    Initialises score dictionaries for attack and defence, and runs through sequence of pairwise results, returning final dictionaries with Elo rankings for both attack (dribblers) and defence (of dribblers)\n",
    "    \"\"\"\n",
    "\n",
    "    dic_scores_attack = {i:initial_rating for i in things}\n",
    "    dic_scores_defence = {i:initial_rating for i in things}\n",
    "\n",
    "    for result in results:\n",
    "\n",
    "        winner, loser, dribble_outcome = result\n",
    "        \n",
    "        # winner = attacker, loser = defender\n",
    "        if dribble_outcome == 1:\n",
    "            Ra, Rb = dic_scores_attack[winner], dic_scores_defence[loser]\n",
    "            _, _, newRa, newRb = elo(Ra, Rb, k, 1)\n",
    "            dic_scores_attack[winner], dic_scores_defence[loser] = newRa, newRb\n",
    "        \n",
    "        # winner = defender, loser = attacker\n",
    "        elif dribble_outcome == 0:\n",
    "            Ra, Rb = dic_scores_defence[winner], dic_scores_attack[loser]\n",
    "            _, _, newRa, newRb = elo(Ra, Rb, k, 1)\n",
    "            dic_scores_defence[winner], dic_scores_attack[loser] = newRa, newRb\n",
    "\n",
    "    return dic_scores_attack, dic_scores_defence"
   ]
  },
  {
   "cell_type": "markdown",
   "metadata": {},
   "source": [
    "### Mean Elo"
   ]
  },
  {
   "cell_type": "code",
   "execution_count": 7,
   "metadata": {},
   "outputs": [],
   "source": [
    "def mElo(things, initial_rating, k, results, numEpochs):\n",
    "    \"\"\"\n",
    "    Randomises the sequence of the pairwise comparisons, running the Elo sequence in a random\n",
    "    sequence for a number of epochs\n",
    "    \n",
    "    Returns the mean Elo ratings over the randomised epoch sequences\n",
    "    \"\"\"\n",
    "    \n",
    "    lst_outcomes_attack = []\n",
    "    lst_outcomes_defence = []\n",
    "    \n",
    "    for i in np.arange(numEpochs):\n",
    "        np.random.shuffle(results)\n",
    "        dic_scores_attack, dic_scores_defence = elo_attack_defence_sequence(things, initial_rating, k, results)\n",
    "        lst_outcomes_attack.append(dic_scores_attack)\n",
    "        lst_outcomes_defence.append(dic_scores_defence)\n",
    "        \n",
    "    df_attack = pd.DataFrame(lst_outcomes_attack).mean().sort_values(ascending=False).to_frame(name='eloAttack')\n",
    "    df_attack['player'] = df_attack.index\n",
    "    df_attack = df_attack.reset_index(drop=True)[['player','eloAttack']]\n",
    "\n",
    "    df_defence = pd.DataFrame(lst_outcomes_defence).mean().sort_values(ascending=False).to_frame(name='eloDefence')\n",
    "    df_defence['player'] = df_defence.index\n",
    "    df_defence = df_defence.reset_index(drop=True)[['player','eloDefence']]\n",
    "    \n",
    "    df_elo = df_attack.merge(df_defence).sort_values('eloAttack', ascending=False)\n",
    "    df_elo['eloDribbleRank'] = df_elo.index+1\n",
    "        \n",
    "    return df_elo\n",
    "    "
   ]
  },
  {
   "cell_type": "markdown",
   "metadata": {},
   "source": [
    "### Plotting"
   ]
  },
  {
   "cell_type": "code",
   "execution_count": 8,
   "metadata": {},
   "outputs": [],
   "source": [
    "def plot_pitch(df_dribble_detail, lst_events, player_name):\n",
    "    \n",
    "    df = df_dribble_detail.loc[df_dribble_detail['dribbler'] == player_name, ['dribbleId','team','dribbler','location_x','location_y','dribble_outcome','overrun_flag','nutmeg_flag','other_team','other_player','other_event']].reset_index(drop=True)\n",
    "\n",
    "    df_carry_mapping = carry_dribble_mapping(lst_events, player_name)\n",
    "    \n",
    "    df_plot = df_carry_mapping.merge(df)\n",
    "\n",
    "    # lazy lookup of the elo table for both the dribbler and the other player\n",
    "    df_plot['eloDribbler'] = df_plot.dribbler.apply(lambda x: df_elo.loc[df_elo['player'] == x, 'eloAttack'].values[0])\n",
    "    df_plot['eloDefender'] = df_plot.other_player.apply(lambda x: df_elo.loc[df_elo['player'] == x, 'eloDefence'].values[0])\n",
    "    df_plot['dribbleProbability'] = df_plot.apply(lambda x: expected_win(x.eloDribbler, x.eloDefender), axis=1)\n",
    "    \n",
    "    pitch = Pitch(pitch_color='grass', line_color='white', orientation='horizontal',figsize=(18,12),stripe=True)\n",
    "    #pitch = Pitch(orientation='horizontal',figsize=(18,12),stripe=False)\n",
    "\n",
    "    fig, ax = pitch.draw()\n",
    "\n",
    "    pitch.scatter(df_plot.location_x, df_plot.location_y, s=df_plot.eloDefender**1.75, c=df_plot.dribble_outcome\\\n",
    "                  ,marker='o', label='Defenders', ax=ax, alpha=0.3)\n",
    "\n",
    "    pitch.arrows(df_plot.dribble_start_x, df_plot.dribble_start_y,\\\n",
    "                 df_plot.dribble_end_x, df_plot.dribble_end_y, width = 2,\\\n",
    "                 headwidth = 10, headlength = 10, color = 'black', ax = ax, label = 'Dribbles')\n",
    "\n",
    "    fig.text(0.05, 1.04, f'All of {player_name}\\'s dribbles during World Cup 2018 for {df_plot.team.values[0]}'\\\n",
    "            ,fontsize=24, fontweight='bold', color='white', fontfamily='Alegreya Sans')\n",
    "\n",
    "    totalDribbles = len(df_plot.dribbleId.drop_duplicates())\n",
    "    numberSuccessfulDribbles = df_plot.loc[:,['dribbleId','dribble_outcome']].drop_duplicates().dribble_outcome.sum()\n",
    "    playerEloScore, playerEloRank = df_elo.loc[df_elo['player'] == player_name, ['eloAttack','eloDribbleRank']].values[0]\n",
    "\n",
    "    fig.text(0.05, 1.0, f'Dribble Rank #{int(playerEloRank)} (Elo Dribble Score {np.round(playerEloScore,2)}). {numberSuccessfulDribbles} successful dribbles out of {totalDribbles}.'\\\n",
    "            ,fontsize=20, fontweight='regular', color='white', fontfamily='Alegreya Sans')\n",
    "\n",
    "    leg = ax.legend(borderpad=1, markerscale=0.5, labelspacing=1.5, loc='upper left', fontsize=16)\n",
    "\n",
    "    fig.savefig(f'{player_name}.png',dpi=300,pad_inches=0,bbox_inches='tight', transparent=True)\n",
    "    \n",
    "    return"
   ]
  },
  {
   "cell_type": "markdown",
   "metadata": {},
   "source": [
    "### World Cup 2018 Matches"
   ]
  },
  {
   "cell_type": "code",
   "execution_count": 9,
   "metadata": {},
   "outputs": [
    {
     "name": "stdout",
     "output_type": "stream",
     "text": [
      "There were 64 matches at the last World Cup (as expected!)\n"
     ]
    }
   ],
   "source": [
    "with open(os.path.join(statsbomb_repo, f'matches/{43}/{3}.json')) as f:\n",
    "    wc_matches = json.load(f)\n",
    "    \n",
    "print (f'There were {len(wc_matches)} matches at the last World Cup (as expected!)')"
   ]
  },
  {
   "cell_type": "code",
   "execution_count": 10,
   "metadata": {},
   "outputs": [
    {
     "data": {
      "text/html": [
       "<div>\n",
       "<style scoped>\n",
       "    .dataframe tbody tr th:only-of-type {\n",
       "        vertical-align: middle;\n",
       "    }\n",
       "\n",
       "    .dataframe tbody tr th {\n",
       "        vertical-align: top;\n",
       "    }\n",
       "\n",
       "    .dataframe thead th {\n",
       "        text-align: right;\n",
       "    }\n",
       "</style>\n",
       "<table border=\"1\" class=\"dataframe\">\n",
       "  <thead>\n",
       "    <tr style=\"text-align: right;\">\n",
       "      <th></th>\n",
       "      <th>away_score</th>\n",
       "      <th>away_team_id</th>\n",
       "      <th>away_team_name</th>\n",
       "      <th>home_score</th>\n",
       "      <th>home_team_id</th>\n",
       "      <th>home_team_name</th>\n",
       "      <th>competition_stage_name</th>\n",
       "      <th>kick_off</th>\n",
       "      <th>match_date</th>\n",
       "      <th>match_id</th>\n",
       "      <th>match_date_time</th>\n",
       "    </tr>\n",
       "  </thead>\n",
       "  <tbody>\n",
       "    <tr>\n",
       "      <th>27</th>\n",
       "      <td>0</td>\n",
       "      <td>799</td>\n",
       "      <td>Saudi Arabia</td>\n",
       "      <td>5</td>\n",
       "      <td>796</td>\n",
       "      <td>Russia</td>\n",
       "      <td>Group Stage</td>\n",
       "      <td>17:00:00.000</td>\n",
       "      <td>2018-06-14</td>\n",
       "      <td>7525</td>\n",
       "      <td>2018-06-14 17:00:00</td>\n",
       "    </tr>\n",
       "    <tr>\n",
       "      <th>46</th>\n",
       "      <td>1</td>\n",
       "      <td>783</td>\n",
       "      <td>Uruguay</td>\n",
       "      <td>0</td>\n",
       "      <td>774</td>\n",
       "      <td>Egypt</td>\n",
       "      <td>Group Stage</td>\n",
       "      <td>14:00:00.000</td>\n",
       "      <td>2018-06-15</td>\n",
       "      <td>7578</td>\n",
       "      <td>2018-06-15 14:00:00</td>\n",
       "    </tr>\n",
       "    <tr>\n",
       "      <th>38</th>\n",
       "      <td>1</td>\n",
       "      <td>797</td>\n",
       "      <td>Iran</td>\n",
       "      <td>0</td>\n",
       "      <td>788</td>\n",
       "      <td>Morocco</td>\n",
       "      <td>Group Stage</td>\n",
       "      <td>17:00:00.000</td>\n",
       "      <td>2018-06-15</td>\n",
       "      <td>7577</td>\n",
       "      <td>2018-06-15 17:00:00</td>\n",
       "    </tr>\n",
       "    <tr>\n",
       "      <th>8</th>\n",
       "      <td>3</td>\n",
       "      <td>772</td>\n",
       "      <td>Spain</td>\n",
       "      <td>3</td>\n",
       "      <td>780</td>\n",
       "      <td>Portugal</td>\n",
       "      <td>Group Stage</td>\n",
       "      <td>20:00:00.000</td>\n",
       "      <td>2018-06-15</td>\n",
       "      <td>7576</td>\n",
       "      <td>2018-06-15 20:00:00</td>\n",
       "    </tr>\n",
       "    <tr>\n",
       "      <th>22</th>\n",
       "      <td>1</td>\n",
       "      <td>792</td>\n",
       "      <td>Australia</td>\n",
       "      <td>2</td>\n",
       "      <td>771</td>\n",
       "      <td>France</td>\n",
       "      <td>Group Stage</td>\n",
       "      <td>12:00:00.000</td>\n",
       "      <td>2018-06-16</td>\n",
       "      <td>7530</td>\n",
       "      <td>2018-06-16 12:00:00</td>\n",
       "    </tr>\n",
       "  </tbody>\n",
       "</table>\n",
       "</div>"
      ],
      "text/plain": [
       "    away_score  away_team_id away_team_name  home_score  home_team_id  \\\n",
       "27           0           799   Saudi Arabia           5           796   \n",
       "46           1           783        Uruguay           0           774   \n",
       "38           1           797           Iran           0           788   \n",
       "8            3           772          Spain           3           780   \n",
       "22           1           792      Australia           2           771   \n",
       "\n",
       "   home_team_name competition_stage_name      kick_off  match_date  match_id  \\\n",
       "27         Russia            Group Stage  17:00:00.000  2018-06-14      7525   \n",
       "46          Egypt            Group Stage  14:00:00.000  2018-06-15      7578   \n",
       "38        Morocco            Group Stage  17:00:00.000  2018-06-15      7577   \n",
       "8        Portugal            Group Stage  20:00:00.000  2018-06-15      7576   \n",
       "22         France            Group Stage  12:00:00.000  2018-06-16      7530   \n",
       "\n",
       "       match_date_time  \n",
       "27 2018-06-14 17:00:00  \n",
       "46 2018-06-15 14:00:00  \n",
       "38 2018-06-15 17:00:00  \n",
       "8  2018-06-15 20:00:00  \n",
       "22 2018-06-16 12:00:00  "
      ]
     },
     "execution_count": 10,
     "metadata": {},
     "output_type": "execute_result"
    }
   ],
   "source": [
    "# the columns of our match dataframe\n",
    "match_cols = ['away_score','away_team_id','away_team_name',\\\n",
    "              'home_score','home_team_id','home_team_name',\\\n",
    "              'competition_stage_name','kick_off','match_date','match_id']\n",
    "\n",
    "# parsing the json and putting fields into structured list, then outputting data in a dataframe\n",
    "df_matches = pd.DataFrame([[i.get('away_score'),i.get('away_team').get('away_team_id'),i.get('away_team').get('away_team_name'),\\\n",
    "                            i.get('home_score'),i.get('home_team').get('home_team_id'),i.get('home_team').get('home_team_name'),\\\n",
    "                            i.get('competition_stage').get('name'),\\\n",
    "                            i.get('kick_off'),i.get('match_date'),i.get('match_id')] for i in wc_matches], columns=match_cols)\n",
    "\n",
    "# creating a datetime to order the games\n",
    "df_matches['match_date_time'] = pd.to_datetime(df_matches['match_date'] + ' ' + df_matches['kick_off'])\n",
    "\n",
    "# sorting by k/o time\n",
    "df_matches = df_matches.sort_values('match_date_time')\n",
    "\n",
    "df_matches.head()"
   ]
  },
  {
   "cell_type": "markdown",
   "metadata": {},
   "source": [
    "### World Cup 2018 Events"
   ]
  },
  {
   "cell_type": "code",
   "execution_count": 11,
   "metadata": {},
   "outputs": [
    {
     "name": "stdout",
     "output_type": "stream",
     "text": [
      "CPU times: user 3.41 s, sys: 375 ms, total: 3.78 s\n",
      "Wall time: 4.14 s\n"
     ]
    },
    {
     "data": {
      "text/plain": [
       "Counter({'Starting XI': 128,\n",
       "         'Half Start': 284,\n",
       "         'Pass': 62872,\n",
       "         'Ball Receipt*': 58964,\n",
       "         'Carry': 50514,\n",
       "         'Duel': 3141,\n",
       "         'Pressure': 23463,\n",
       "         'Dispossessed': 1189,\n",
       "         'Ball Recovery': 5676,\n",
       "         'Interception': 1276,\n",
       "         'Foul Committed': 1876,\n",
       "         'Foul Won': 1789,\n",
       "         'Camera On': 1756,\n",
       "         'Dribble': 2109,\n",
       "         'Clearance': 2074,\n",
       "         'Miscontrol': 1535,\n",
       "         'Block': 2162,\n",
       "         'Dribbled Past': 1441,\n",
       "         'Shot': 1706,\n",
       "         'Goal Keeper': 1975,\n",
       "         '50/50': 108,\n",
       "         'Injury Stoppage': 291,\n",
       "         'Camera off': 393,\n",
       "         'Substitution': 382,\n",
       "         'Tactical Shift': 116,\n",
       "         'Half End': 284,\n",
       "         'Shield': 56,\n",
       "         'Referee Ball-Drop': 57,\n",
       "         'Player Off': 63,\n",
       "         'Player On': 63,\n",
       "         'Error': 37,\n",
       "         'Own Goal For': 12,\n",
       "         'Own Goal Against': 12,\n",
       "         'Offside': 26,\n",
       "         'Bad Behaviour': 40})"
      ]
     },
     "execution_count": 11,
     "metadata": {},
     "output_type": "execute_result"
    }
   ],
   "source": [
    "%%time\n",
    "\n",
    "lst_events = []\n",
    "\n",
    "for match_id in df_matches.match_id:\n",
    "    with open(os.path.join(statsbomb_repo, f'events/{match_id}.json')) as f:\n",
    "        lst_events.append(json.load(f))\n",
    "        \n",
    "# let's take a quick look at the event types\n",
    "Counter([j.get('type').get('name') for i in lst_events for j in i])"
   ]
  },
  {
   "cell_type": "markdown",
   "metadata": {},
   "source": [
    "### Delving into dribbles\n",
    "\n",
    "> I'm also getting the related event metadata so that I can search it later to find tackles / overran / successful dribbles, and the opposition player."
   ]
  },
  {
   "cell_type": "code",
   "execution_count": null,
   "metadata": {},
   "outputs": [],
   "source": [
    "%%time\n",
    "\n",
    "# dribbles can have related events like dribbled past, or duels, and those things can be successful or incomplete, and may have other attributes\n",
    "dribbles = [j for i in lst_events for j in i if j.get('type').get('name') == 'Dribble']\n",
    "\n",
    "dic_dribble = {}\n",
    "\n",
    "for dribble in dribbles:\n",
    "    Id = dribble.get('id')\n",
    "    index = dribble.get('index')\n",
    "    timestamp = dribble.get('timestamp')\n",
    "    \n",
    "    team = dribble.get('team').get('name')\n",
    "    dribbler = dribble.get('player').get('name')\n",
    "    location_x, location_y = dribble.get('location')\n",
    "    under_pressure = 1 if dribble.get('under_pressure', False) else 0\n",
    "    related_events = dribble.get('related_events')\n",
    "    try:\n",
    "        related_events_meta = [event_lookup(lst_events, i) for i in related_events if len(related_events) > 0]\n",
    "    except:\n",
    "        related_events_meta = []\n",
    "    dribble_outcome = 1 if dribble.get('dribble').get('outcome').get('name') == 'Complete' else 0\n",
    "    overrun_flag = 1 if dribble.get('dribble').get('overrun', False) else 0\n",
    "    nutmeg_flag = 1 if dribble.get('dribble').get('nutmeg', False) else 0\n",
    "    \n",
    "    dic_dribble[Id] = [Id, index, timestamp, team, dribbler, location_x, location_y, under_pressure, related_events\\\n",
    "                      ,related_events_meta, dribble_outcome, overrun_flag, nutmeg_flag]"
   ]
  },
  {
   "cell_type": "code",
   "execution_count": null,
   "metadata": {},
   "outputs": [],
   "source": [
    "dribble_cols = ['Id','index','timestamp','team','dribbler','location_x','location_y',\\\n",
    "                'under_pressure','related_events','related_events_meta','dribble_outcome','overrun_flag','nutmeg_flag']\n",
    "\n",
    "df_dribble = pd.DataFrame.from_dict(dic_dribble, orient='index', columns=dribble_cols)\n",
    "\n",
    "# getting rid of rows where there's no related events\n",
    "df_dribble = df_dribble.loc[~pd.isna(df_dribble['related_events']) == True].copy()\n",
    "\n",
    "len(df_dribble)"
   ]
  },
  {
   "cell_type": "markdown",
   "metadata": {},
   "source": [
    "### Iterating through the related events to get data related to the defensive side of the dribble\n",
    "\n",
    "**The main outcomes are:**\n",
    "* Successful dribble beating the defender;\n",
    "* Managed to dribble past the defender, but dribbler overran and the dribble outcome was unsuccessful (I'm giving this as a win for the defender...);\n",
    "* Dribbler tackled by defender."
   ]
  },
  {
   "cell_type": "code",
   "execution_count": null,
   "metadata": {},
   "outputs": [],
   "source": [
    "%%time\n",
    "\n",
    "dic_dribble_detail = {}\n",
    "\n",
    "for ix, cols in df_dribble.iterrows():\n",
    "    Id, index, timestamp, team, dribbler, location_x, location_y, under_pressure, related_events\\\n",
    "    ,related_events_meta, dribble_outcome, overrun_flag, nutmeg_flag = cols\n",
    "    \n",
    "    for related_event_meta in related_events_meta:\n",
    "        other_event_type = related_event_meta.get('type').get('name')\n",
    "        other_location_x, other_location_y = related_event_meta.get('location')\n",
    "        other_team = related_event_meta.get('team').get('name')\n",
    "        other_player = related_event_meta.get('player').get('name')\n",
    "        \n",
    "        if other_event_type == 'Duel':\n",
    "            other_event_subtype = related_event_meta.get('duel').get('type').get('name')\n",
    "        elif other_event_subtype == 'Dribbled Past':\n",
    "            other_event_subtype = None\n",
    "        else:\n",
    "            other_event_subtype = None\n",
    "                \n",
    "            \n",
    "        dic_dribble_detail[Id] = [Id, index, timestamp, team, dribbler, location_x, location_y, under_pressure, related_events\\\n",
    "                                  ,related_events_meta, dribble_outcome, overrun_flag, nutmeg_flag\\\n",
    "                                  ,other_event_type, other_event_subtype, other_team, other_player, other_location_x, other_location_y]\n",
    "        \n",
    "dribble_detail_cols = ['dribbleId','index','timestamp','team','dribbler','location_x','location_y',\\\n",
    "                       'under_pressure','related_events','related_events_meta','dribble_outcome','overrun_flag','nutmeg_flag',\\\n",
    "                       'other_event','other_event_subtype','other_team','other_player', 'other_location_x', 'other_location_y']\n",
    "\n",
    "df_dribble_detail = pd.DataFrame.from_dict(dic_dribble_detail, orient='index', columns=dribble_detail_cols)\n",
    "\n",
    "print (f'Total # dribble rows: {len(df_dribble_detail)}')\n",
    "\n",
    "# getting rid of pressure and goal keeper - about 10% of the data\n",
    "df_dribble_detail = df_dribble_detail.loc[df_dribble_detail.other_event.isin(['Duel','Dribbled Past'])].copy()\n",
    "\n",
    "print (f'Total # dribble rows after removing pressure & goal keeper: {len(df_dribble_detail)}\\n')"
   ]
  },
  {
   "cell_type": "code",
   "execution_count": null,
   "metadata": {},
   "outputs": [],
   "source": [
    "# quick check that all UNSUCCESSFUL dribbles are either due to duel:tackles or dribbled past:overruns where the attacker has gone past the defender, but in doing so has lost the ball\n",
    "# there are a small minority of SUCCESSFUL dribbles that have been overrun (37). Keeping those in as successful despite the above logic. The overrun may have gone to a teammate or something like that.\n",
    "df_dribble_detail.groupby(['dribble_outcome','other_event','overrun_flag'])\\\n",
    "                    .agg({'dribbleId':'nunique'})\\\n",
    "                    .reset_index()\\\n",
    "                    .rename(columns={'dribbleId':'numDribbles'})"
   ]
  },
  {
   "cell_type": "markdown",
   "metadata": {},
   "source": [
    "## Creating `[Winner, Loser, Dribble_Outcome]` data structure for Elo algo"
   ]
  },
  {
   "cell_type": "code",
   "execution_count": null,
   "metadata": {},
   "outputs": [],
   "source": [
    "df_dribble_detail['winner'] = df_dribble_detail.apply(lambda x: x.dribbler if x.dribble_outcome == 1 else x.other_player, axis=1)\n",
    "df_dribble_detail['loser'] = df_dribble_detail.apply(lambda x: x.dribbler if x.dribble_outcome == 0 else x.other_player, axis=1)\n",
    "\n",
    "winner_loser = [(i[0], i[1], i[2]) for i in df_dribble_detail.loc[:, ['winner','loser','dribble_outcome']].values]"
   ]
  },
  {
   "cell_type": "markdown",
   "metadata": {},
   "source": [
    "## Elo Scoring\n",
    "\n",
    "> Want to separate this out into two different scores: an elo for defence and an elo for attack\n",
    "\n",
    "> When we come to do the elo updates, we do attack Vs defence\n",
    "\n",
    "> Just needs a bit of careful thought behind the data structures, and what's being updated...\n",
    "\n",
    "```\n",
    "if dribble_outcome == 1, then winner is attacker and loser is defender -> winner has attacking stat increased and loser has defensive stat decreased\n",
    "\n",
    "if dribble_outcome == 0, then winner is defender and loser is attacker > winner has defensive stat increased and loser has attacking stat decreased\n",
    "```"
   ]
  },
  {
   "cell_type": "markdown",
   "metadata": {},
   "source": [
    "### Initial Elo conditions"
   ]
  },
  {
   "cell_type": "code",
   "execution_count": null,
   "metadata": {},
   "outputs": [],
   "source": [
    "initial_rating = 100\n",
    "k = 25\n",
    "\n",
    "players = list(set(df_dribble_detail['winner'].values).union(set(df_dribble_detail['loser'].values)))"
   ]
  },
  {
   "cell_type": "markdown",
   "metadata": {},
   "source": [
    "### Run meanElo on 1000 epochs of dribbles"
   ]
  },
  {
   "cell_type": "code",
   "execution_count": null,
   "metadata": {},
   "outputs": [],
   "source": [
    "df_elo = mElo(players, initial_rating, k, winner_loser, 1000)\n",
    "\n",
    "df_elo.head()"
   ]
  },
  {
   "cell_type": "code",
   "execution_count": null,
   "metadata": {},
   "outputs": [],
   "source": [
    "df_elo.tail()"
   ]
  },
  {
   "cell_type": "markdown",
   "metadata": {},
   "source": [
    "### Putting summary together of all players that have either dribbled or faced a dribble at the World Cup (performing left joins on the main Elo table and filling NaN's with 0)"
   ]
  },
  {
   "cell_type": "code",
   "execution_count": null,
   "metadata": {},
   "outputs": [],
   "source": [
    "df_summary_attack = df_dribble_detail.groupby('dribbler')\\\n",
    "                        .agg({'dribbleId':'nunique','dribble_outcome':np.sum})\\\n",
    "                        .reset_index()\\\n",
    "                        .rename(columns={'dribbleId':'totalDribbles','dribble_outcome':'successfulDribbles','dribbler':'player'})\n",
    "\n",
    "df_summary_defence = df_dribble_detail.groupby('other_player')\\\n",
    "                        .agg({'dribbleId':'nunique','dribble_outcome':np.sum})\\\n",
    "                        .reset_index()\\\n",
    "                        .rename(columns={'dribbleId':'totalDribbleStopAttempts','dribble_outcome':'successfulDribbleStops','other_player':'player'})\n",
    "\n",
    "# dribble stops will be equal to total dribble attempts by dribbler - the successful dribbles by the dribbler\n",
    "df_summary_defence['successfulDribbleStops'] = df_summary_defence['totalDribbleStopAttempts'] - df_summary_defence['successfulDribbleStops']\n",
    "\n",
    "# merging elo scores with player dribble summary scores\n",
    "df_summary = df_elo.merge(df_summary_attack, on='player', how='left').merge(df_summary_defence, on='player', how='left').fillna(value=0).sort_values('eloAttack', ascending=False).reset_index(drop=True)\n",
    "\n",
    "df_summary.head()"
   ]
  },
  {
   "cell_type": "markdown",
   "metadata": {},
   "source": [
    "## Visualising & Reporting"
   ]
  },
  {
   "cell_type": "code",
   "execution_count": null,
   "metadata": {},
   "outputs": [],
   "source": [
    "%%time\n",
    "\n",
    "# Ante Rebić\n",
    "# Neymar da Silva Santos Junior\n",
    "# Francisco Román Alarcón Suárez\n",
    "# Luka Modrić\n",
    "# Lionel Andrés Messi Cuccittini\n",
    "\n",
    "player_name = 'Ante Rebić'\n",
    "\n",
    "plot_pitch(df_dribble_detail, lst_events, player_name)"
   ]
  },
  {
   "cell_type": "code",
   "execution_count": null,
   "metadata": {},
   "outputs": [],
   "source": [
    "%%time\n",
    "\n",
    "player_name = 'Lionel Andrés Messi Cuccittini'\n",
    "\n",
    "plot_pitch(df_dribble_detail, lst_events, player_name)"
   ]
  }
 ],
 "metadata": {
  "kernelspec": {
   "display_name": "py37",
   "language": "python",
   "name": "py37"
  },
  "language_info": {
   "codemirror_mode": {
    "name": "ipython",
    "version": 3
   },
   "file_extension": ".py",
   "mimetype": "text/x-python",
   "name": "python",
   "nbconvert_exporter": "python",
   "pygments_lexer": "ipython3",
   "version": "3.7.4"
  }
 },
 "nbformat": 4,
 "nbformat_minor": 2
}
