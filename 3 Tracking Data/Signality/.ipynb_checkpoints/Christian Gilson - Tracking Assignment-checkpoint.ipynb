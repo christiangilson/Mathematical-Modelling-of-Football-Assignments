{
 "cells": [
  {
   "cell_type": "markdown",
   "metadata": {},
   "source": [
    "# **Christian Gilson - Tracking Data Assignment**\n",
    "\n",
    "Sunday 11th October 2020\n",
    "\n",
    "---"
   ]
  },
  {
   "cell_type": "code",
   "execution_count": null,
   "metadata": {},
   "outputs": [],
   "source": [
    "import pprint as pp\n",
    "import pandas as pd\n",
    "import numpy as np\n",
    "import datetime\n",
    "\n",
    "# imports required by data prep functions\n",
    "import json\n",
    "import math\n",
    "\n",
    "# Laurie's libraries\n",
    "import scipy.signal as signal\n",
    "import matplotlib.animation as animation\n",
    "\n",
    "# removing annoying matplotlib warnings\n",
    "import warnings\n",
    "warnings.filterwarnings(\"ignore\", category=UserWarning)\n",
    "\n",
    "import re\n",
    "import os\n",
    "from collections import Counter, defaultdict\n",
    "\n",
    "import pprint as pp\n",
    "\n",
    "# plotting\n",
    "import matplotlib.pyplot as plt\n",
    "\n",
    "pd.options.display.max_rows = 500\n",
    "pd.options.display.max_columns = 500\n",
    "\n",
    "signalityRepo = r'2019/Tracking Data/'\n",
    "movieRepo = r'Movies/'"
   ]
  },
  {
   "cell_type": "markdown",
   "metadata": {},
   "source": [
    "# **1)** Data Preparation Functions"
   ]
  },
  {
   "cell_type": "code",
   "execution_count": null,
   "metadata": {},
   "outputs": [],
   "source": [
    "def initialise_dic_tracks(df_homePlayers, df_awayPlayers):\n",
    "    \"\"\"\n",
    "    Initialises dictionaries for both home and away player locations\n",
    "    \"\"\"\n",
    "\n",
    "    dic_home_tracks = {}\n",
    "    dic_away_tracks = {}\n",
    "\n",
    "    for homePlayer in df_homePlayers.playerIndex:\n",
    "        for xy in ['x','y']:\n",
    "            dic_home_tracks[f'Home_{homePlayer}_{xy}'] = []\n",
    "\n",
    "    for awayPlayer in df_awayPlayers.playerIndex:\n",
    "        for xy in ['x','y']:\n",
    "            dic_away_tracks[f'Away_{awayPlayer}_{xy}'] = []\n",
    "            \n",
    "    return dic_home_tracks, dic_away_tracks"
   ]
  },
  {
   "cell_type": "code",
   "execution_count": null,
   "metadata": {},
   "outputs": [],
   "source": [
    "def populate_df_tracks(homeAway, homeAway_tracks, playersJerseyMapping, dic_tracks, df_players):\n",
    "    \"\"\"\n",
    "    For a given team (home OR away), will transform the JSON track data to produce a dataframe just like Laurie's\n",
    "    \"\"\"\n",
    "    \n",
    "    lst_playerJerseys = df_players.jersey_number.values\n",
    "    \n",
    "    # iterating through frames for home/away team\n",
    "    for n, frame in enumerate(homeAway_tracks):\n",
    "\n",
    "        lst_playerJerseysPerFrame = []\n",
    "\n",
    "        for player in frame:\n",
    "            jersey_number = player.get('jersey_number')\n",
    "            playerIndex = playersJerseyMapping[jersey_number]\n",
    "            x,y = player.get('position', [np.nan, np.nan])\n",
    "\n",
    "            # keeping track of jerseys that have a position for that frame\n",
    "            lst_playerJerseysPerFrame.append(jersey_number)\n",
    "\n",
    "            dic_tracks[f'{homeAway}_{playerIndex}_x'].append(x)\n",
    "            # flipping the y axis to make the data sync with Laurie's plotting methods\n",
    "            dic_tracks[f'{homeAway}_{playerIndex}_y'].append(-1*y)\n",
    "\n",
    "        # list of jerseys that aren't in the frame\n",
    "        lst_playerJerseysNotInFrame = list(set(lst_playerJerseys) - set(lst_playerJerseysPerFrame))\n",
    "\n",
    "        # adding the jerseys that aren't in frame and providing an x,y position of nan, nan\n",
    "        for jersey_number in lst_playerJerseysNotInFrame:\n",
    "            playerIndex = playersJerseyMapping[jersey_number]\n",
    "            x,y = [np.nan, np.nan]\n",
    "\n",
    "            dic_tracks[f'{homeAway}_{playerIndex}_x'].append(x)\n",
    "            dic_tracks[f'{homeAway}_{playerIndex}_y'].append(y)\n",
    "    \n",
    "    # transforming tracking dic to a tracking dataframe\n",
    "    df_tracks = pd.DataFrame(dic_tracks)\n",
    "    \n",
    "    return df_tracks"
   ]
  },
  {
   "cell_type": "code",
   "execution_count": null,
   "metadata": {},
   "outputs": [],
   "source": [
    "def to_single_playing_direction(home,away):\n",
    "    \"\"\"\n",
    "    Switches x and y co-ords with negative sign in the second half\n",
    "    Requires the co-ords to be symmetric about 0,0 (i.e. going from roughly -60 to +60 in the x direction and -34 to +34 in the y direction)\n",
    "    \"\"\"\n",
    "    for team in [home,away]:\n",
    "        second_half_idx = team.Period.idxmax(2)\n",
    "        columns = [c for c in team.columns if c[-1].lower() in ['x','y']]\n",
    "        team.loc[second_half_idx:,columns] *= -1\n",
    "    return home,away"
   ]
  },
  {
   "cell_type": "code",
   "execution_count": null,
   "metadata": {},
   "outputs": [],
   "source": [
    "def shoot_direction(gk_x_position):\n",
    "    \"\"\"\n",
    "    Produces either 1 (L2R) or -1 (R2L) based on GK position\n",
    "    \"\"\"\n",
    "    if gk_x_position > 0:\n",
    "        # shooting right-to-left\n",
    "        return -1\n",
    "    else:\n",
    "        # shotting left-to-right\n",
    "        return 1"
   ]
  },
  {
   "cell_type": "code",
   "execution_count": null,
   "metadata": {},
   "outputs": [],
   "source": [
    "def parse_raw_to_df(signalityRepo, rootFileName, interpolate=True):\n",
    "    \"\"\"\n",
    "    Takes raw root of a match string e.g. 20190930.Hammarby-Örebrö and transforms it into 4 dataframes:\n",
    "    1) home players\n",
    "    2) away players\n",
    "    3) home tracking\n",
    "    4) away tracking\n",
    "    \"\"\"\n",
    "    \n",
    "    lst_df_home = []\n",
    "    lst_df_away = []\n",
    "    \n",
    "    for half in ['.1','.2']:\n",
    "        \n",
    "        # producing filename prefix (just need to add either \"-info_live.json\" or \"-tracks.json\")\n",
    "        fileNamePrefix = rootFileName + half\n",
    "\n",
    "        # load info\n",
    "        ## looks like the info JSON is duplicated between the two halves\n",
    "        with open(os.path.join(signalityRepo, f'{fileNamePrefix}-info_live.json')) as f:\n",
    "            info = json.load(f)\n",
    "\n",
    "        # load tracks\n",
    "        with open(os.path.join(signalityRepo, f'{fileNamePrefix}-tracks.json')) as f:\n",
    "            tracks = json.load(f)\n",
    "\n",
    "        # unpacking info\n",
    "        ## looks like .1 and .2 files are duplicated, so just looking at the .1 (first half file)\n",
    "        if half == '.1':\n",
    "            matchId = info.get('id')\n",
    "            venueId = info.get('venueId')\n",
    "            timeStart = info.get('time_start')\n",
    "            pitchLength, pitchWidth = info.get('calibration').get('pitch_size')\n",
    "            homeTeam = info.get('team_home_name')\n",
    "            awayTeam = info.get('team_away_name')\n",
    "\n",
    "            # unpacking players\n",
    "            homePlayers = info.get('team_home_players')\n",
    "            awayPlayers = info.get('team_away_players')\n",
    "            homeLineup = info.get('team_home_lineup')\n",
    "            awayLineup = info.get('team_away_lineup')\n",
    "            homeLineupSwitch = {homeLineup[i]:i for i in homeLineup}\n",
    "            awayLineupSwitch = {awayLineup[i]:i for i in awayLineup}\n",
    "\n",
    "            # putting player metadata in dataframe\n",
    "            df_homePlayers = pd.DataFrame(homePlayers)\n",
    "            df_awayPlayers = pd.DataFrame(awayPlayers)\n",
    "            df_homePlayers['teamName'] = homeTeam\n",
    "            df_awayPlayers['teamName'] = awayTeam\n",
    "\n",
    "            # adding matchId to the player dataframes\n",
    "            df_homePlayers['matchId'] = matchId\n",
    "            df_awayPlayers['matchId'] = matchId\n",
    "            df_homePlayers['matchName'] = rootFileName\n",
    "            df_awayPlayers['matchName'] = rootFileName\n",
    "\n",
    "            # adding 1-11 + sub player indices (will probably use these for the final column names like Laurie in the tracks df)\n",
    "            df_homePlayers['playerIndex'] = [int(homeLineupSwitch[i]) if i in homeLineupSwitch else np.nan for i in df_homePlayers.jersey_number.values]\n",
    "            df_awayPlayers['playerIndex'] = [int(awayLineupSwitch[i]) if i in awayLineupSwitch else np.nan for i in df_awayPlayers.jersey_number.values]\n",
    "            df_homePlayers.loc[pd.isna(df_homePlayers['playerIndex']) == True, 'playerIndex'] = np.arange(int(np.nanmax(df_homePlayers.playerIndex))+1, len(df_homePlayers)+1)\n",
    "            df_awayPlayers.loc[pd.isna(df_awayPlayers['playerIndex']) == True, 'playerIndex'] = np.arange(int(np.nanmax(df_awayPlayers.playerIndex))+1, len(df_awayPlayers)+1)\n",
    "            df_homePlayers['playerIndex'] = df_homePlayers.playerIndex.apply(lambda x: int(x))\n",
    "            df_awayPlayers['playerIndex'] = df_awayPlayers.playerIndex.apply(lambda x: int(x))\n",
    "\n",
    "            # re-jigging cols and re-ordering rows\n",
    "            df_homePlayers = df_homePlayers[['matchId','matchName','teamName','playerIndex','jersey_number','name']].sort_values('playerIndex')\n",
    "            df_awayPlayers = df_awayPlayers[['matchId','matchName','teamName','playerIndex','jersey_number','name']].sort_values('playerIndex')\n",
    "\n",
    "            homePlayersJerseyMapping = {i:j for i, j in zip(df_homePlayers.jersey_number, df_homePlayers.playerIndex)}\n",
    "            awayPlayersJerseyMapping = {i:j for i, j in zip(df_awayPlayers.jersey_number, df_awayPlayers.playerIndex)}\n",
    "\n",
    "        ## parsing the track data\n",
    "        phase = int(half[-1])\n",
    "\n",
    "        # extracting home and away tracks\n",
    "        home_tracks = [i.get('home_team') for i in tracks]\n",
    "        away_tracks = [i.get('away_team') for i in tracks]\n",
    "\n",
    "        # ball tracks\n",
    "        ball_tracks = [i.get('ball') for i in tracks]\n",
    "        ball_tracks_position = [(i.get('position')[0],i.get('position')[1],i.get('position')[2]) if i.get('position') != None else (np.nan, np.nan, np.nan) for i in ball_tracks]\n",
    "        ball_x = [i[0] for i in ball_tracks_position]\n",
    "        # flipping the y-coordinate\n",
    "        ball_y = [-1*i[1] for i in ball_tracks_position]\n",
    "        ball_z = [i[2] for i in ball_tracks_position]\n",
    "        ball_jerseyPossession = [i.get('player') for i in ball_tracks]\n",
    "        ball_jerseyPossession = [int(i) if pd.isna(i) == False else np.nan for i in ball_jerseyPossession]\n",
    "\n",
    "        # match timestamps\n",
    "        match_time = [i.get('match_time') for i in tracks]\n",
    "        period = [i.get('phase') for i in tracks]\n",
    "        timeStamp = pd.to_datetime([datetime.datetime.utcfromtimestamp(i.get('utc_time')/1000) for i in tracks])\n",
    "\n",
    "        # unpacking tracks\n",
    "        ## 1) initialising dictionaries for home and away teams\n",
    "        dic_home_tracks, dic_away_tracks = initialise_dic_tracks(df_homePlayers, df_awayPlayers)\n",
    "        ## 2) producing home tracking dataframe\n",
    "        df_home_tracks = populate_df_tracks('Home', home_tracks, homePlayersJerseyMapping, dic_home_tracks, df_homePlayers)\n",
    "        ## 3) producing away tracking dataframe\n",
    "        df_away_tracks = populate_df_tracks('Away', away_tracks, awayPlayersJerseyMapping, dic_away_tracks, df_awayPlayers)\n",
    "\n",
    "        # putting things together\n",
    "        ## 1) home\n",
    "        df_home_tracks['ball_x'] = ball_x\n",
    "        df_home_tracks['ball_y'] = ball_y\n",
    "        df_home_tracks['ball_z'] = ball_z\n",
    "        \n",
    "        # at this point we just have player and ball positions in the dataframe, so providing option now to interpolate\n",
    "        # linearly interpolating (inside only) when there are enclosed NaNs - this is the shortest path, and will thus be the slowest in a set amount of time, so won't overestimate speed / acceleration when we're missing data\n",
    "        if interpolate:\n",
    "            df_home_tracks = df_home_tracks.interpolate(method='linear', limit_area='inside')\n",
    "        \n",
    "        # and now adding things where we wouldn't want there to be any interpolation (like the ball_jerseyPossession)\n",
    "        df_home_tracks['halfIndex'] = df_home_tracks.index\n",
    "        df_home_tracks['matchId'] = matchId\n",
    "        df_home_tracks['matchName'] = rootFileName\n",
    "        df_home_tracks['Period'] = period\n",
    "        df_home_tracks['Time [s]'] = np.array(match_time) / 1000\n",
    "        df_home_tracks['TimeStamp'] = timeStamp\n",
    "        df_home_tracks['ball_jerseyPossession'] = ball_jerseyPossession\n",
    "\n",
    "        ## 2) away\n",
    "        df_away_tracks['ball_x'] = ball_x\n",
    "        df_away_tracks['ball_y'] = ball_y\n",
    "        df_away_tracks['ball_z'] = ball_z\n",
    "        \n",
    "        # option to interpolate, like with the home team\n",
    "        if interpolate:\n",
    "            df_away_tracks = df_away_tracks.interpolate(method='linear', limit_area='inside')\n",
    "        \n",
    "        df_away_tracks['halfIndex'] = df_away_tracks.index\n",
    "        df_away_tracks['matchId'] = matchId\n",
    "        df_away_tracks['matchName'] = rootFileName\n",
    "        df_away_tracks['Period'] = period\n",
    "        df_away_tracks['Time [s]'] = np.array(match_time) / 1000\n",
    "        df_away_tracks['TimeStamp'] = timeStamp\n",
    "        df_away_tracks['ball_jerseyPossession'] = ball_jerseyPossession\n",
    "        \n",
    "        lst_df_home.append(df_home_tracks)\n",
    "        lst_df_away.append(df_away_tracks)\n",
    "        \n",
    "    # combining the first and second half data\n",
    "    df_homeTracks = pd.concat(lst_df_home, ignore_index=True)\n",
    "    df_awayTracks = pd.concat(lst_df_away, ignore_index=True)\n",
    "    \n",
    "    # getting a master index for the full game\n",
    "    df_homeTracks['index'] = df_homeTracks.index\n",
    "    df_awayTracks['index'] = df_awayTracks.index\n",
    "    \n",
    "    # forcing the second half of the match to follow the same direction as the first\n",
    "    df_homeTracks, df_awayTracks = to_single_playing_direction(df_homeTracks, df_awayTracks)\n",
    "    \n",
    "    # use GK x position to know whether team is shooting right-to-left or left-to-right.\n",
    "    avHomeGKxTrack = df_homeTracks.Home_1_x.mean()\n",
    "    avAwayGKxTrack = df_awayTracks.Away_1_x.mean()\n",
    "    \n",
    "    # apply shooting direction to both home and away dataframes\n",
    "    df_homeTracks['shootingDirection'] = shoot_direction(avHomeGKxTrack)\n",
    "    df_awayTracks['shootingDirection'] = shoot_direction(avAwayGKxTrack)\n",
    "    \n",
    "    return df_homePlayers, df_awayPlayers, df_homeTracks, df_awayTracks, pitchLength, pitchWidth, homePlayersJerseyMapping, awayPlayersJerseyMapping\n"
   ]
  },
  {
   "cell_type": "markdown",
   "metadata": {},
   "source": [
    "# **2)** Calculate first and second derivatives of position: velocity and acceleration"
   ]
  },
  {
   "cell_type": "code",
   "execution_count": null,
   "metadata": {},
   "outputs": [],
   "source": [
    "def calc_opp_goal_position(shootingDirection, pitchLength):\n",
    "    \"\"\"\n",
    "    Outputs either +1 or -1 if team shooting left-to-right or right-to-left, respectively.\n",
    "    \"\"\"\n",
    "    \n",
    "    # 1 = left-to-right\n",
    "    if shootingDirection == 1:\n",
    "        return (pitchLength/2, 0)\n",
    "    # -1 = right-to-left\n",
    "    else:\n",
    "        return (-1*pitchLength/2, 0)"
   ]
  },
  {
   "cell_type": "code",
   "execution_count": null,
   "metadata": {},
   "outputs": [],
   "source": [
    "def calc_player_velocities(team, pitchLength = 105, smoothing = True, filter_ = 'Savitzky-Golay', window = 7, polyorder = 1, maxspeed = 12):\n",
    "    \"\"\"\n",
    "    Calculate player x,y components of velocities and acceleration\n",
    "    Also calculates scalar quantities for velocity (i.e. speed), acceleration, and player distance to goal\n",
    "    \n",
    "    Parameters\n",
    "    -----------\n",
    "        team: the tracking DataFrame for home or away team\n",
    "        smoothing: boolean variable that determines whether velocity measures are smoothed. Default is True.\n",
    "        filter: type of filter to use when smoothing the velocities. Default is Savitzky-Golay, which fits a polynomial of order 'polyorder' to the data within each window\n",
    "        window: smoothing window size in # of frames\n",
    "        polyorder: order of the polynomial for the Savitzky-Golay filter. Default is 1 - a linear fit to the velocity, so gradient is the acceleration\n",
    "        maxspeed: the maximum speed that a player can realisitically achieve (in meters/second). Speed measures that exceed maxspeed are tagged as outliers and set to NaN. \n",
    "\n",
    "    \"\"\"\n",
    "    # remove any velocity data already in the dataframe\n",
    "    team = remove_player_velocity_acceleration_distance(team)\n",
    "    \n",
    "    # extract the shooting direction (+1 L2R, -1 R2L)\n",
    "    shootingDirection = team.shootingDirection.values[0]\n",
    "    # getting the opposite goal position\n",
    "    goal_x, goal_y = calc_opp_goal_position(shootingDirection, pitchLength)\n",
    "    \n",
    "    # Get the player ids\n",
    "    player_ids = np.unique( [ c[:-2] for c in team.columns if c[:4] in ['Home','Away'] ] )\n",
    "\n",
    "    # Calculate the timestep from one frame to the next. Should always be 0.04 within the same half\n",
    "    dt = team['Time [s]'].diff()\n",
    "    \n",
    "    # index of first frame in second half\n",
    "    second_half_idx = team.Period.idxmax(2)\n",
    "    \n",
    "    # estimate velocities for players in team\n",
    "    # cycle through players individually\n",
    "    for player in player_ids:\n",
    "\n",
    "        # difference player positions in timestep dt to get unsmoothed estimate of velicity\n",
    "        vx = team[f'{player}_x'].diff() / dt\n",
    "        vy = team[f'{player}_y'].diff() / dt\n",
    "        \n",
    "        # calculating distance to goal\n",
    "        # dy will always just be the y position as goal_y is always 0 by definition using current co-ord system, but leaving in this redundancy for now\n",
    "        # just incase the co-ord system changes for different applications\n",
    "        dx = team[f'{player}_x'] - goal_x\n",
    "        dy = team[f'{player}_y'] - goal_y\n",
    "        D = np.sqrt(dx**2 + dy**2)\n",
    "\n",
    "        if maxspeed > 0:\n",
    "            # remove unsmoothed data points that exceed the maximum speed (these are most likely position errors)\n",
    "            raw_speed = np.sqrt(vx**2 + vy**2)\n",
    "            vx[raw_speed>maxspeed] = np.nan\n",
    "            vy[raw_speed>maxspeed] = np.nan\n",
    "\n",
    "        if smoothing:\n",
    "            if filter_=='Savitzky-Golay':\n",
    "\n",
    "                # calculate first half velocity\n",
    "                vx.loc[:second_half_idx] = signal.savgol_filter(vx.loc[:second_half_idx],window_length=window,polyorder=polyorder)\n",
    "                vy.loc[:second_half_idx] = signal.savgol_filter(vy.loc[:second_half_idx],window_length=window,polyorder=polyorder)        \n",
    "                # calculate second half velocity\n",
    "                vx.loc[second_half_idx:] = signal.savgol_filter(vx.loc[second_half_idx:],window_length=window,polyorder=polyorder)\n",
    "                vy.loc[second_half_idx:] = signal.savgol_filter(vy.loc[second_half_idx:],window_length=window,polyorder=polyorder)\n",
    "                \n",
    "            elif filter_=='moving average':\n",
    "\n",
    "                ma_window = np.ones( window ) / window \n",
    "                # calculate first half velocity\n",
    "                vx.loc[:second_half_idx] = np.convolve( vx.loc[:second_half_idx] , ma_window, mode='same' ) \n",
    "                vy.loc[:second_half_idx] = np.convolve( vy.loc[:second_half_idx] , ma_window, mode='same' )      \n",
    "                # calculate second half velocity\n",
    "                vx.loc[second_half_idx:] = np.convolve( vx.loc[second_half_idx:] , ma_window, mode='same' ) \n",
    "                vy.loc[second_half_idx:] = np.convolve( vy.loc[second_half_idx:] , ma_window, mode='same' ) \n",
    "\n",
    "        # acceleration components: second derivative of position\n",
    "        ax = vx.diff() / dt\n",
    "        ay = vy.diff() / dt\n",
    "        \n",
    "        # acceleration smoothing\n",
    "        if smoothing:\n",
    "            if filter_=='Savitzky-Golay':\n",
    "\n",
    "                # calculate first half acceleration\n",
    "                ax.loc[:second_half_idx] = signal.savgol_filter(ax.loc[:second_half_idx],window_length=window,polyorder=polyorder)\n",
    "                ay.loc[:second_half_idx] = signal.savgol_filter(ay.loc[:second_half_idx],window_length=window,polyorder=polyorder)        \n",
    "                # calculate second half acceleration\n",
    "                ax.loc[second_half_idx:] = signal.savgol_filter(ax.loc[second_half_idx:],window_length=window,polyorder=polyorder)\n",
    "                ay.loc[second_half_idx:] = signal.savgol_filter(ay.loc[second_half_idx:],window_length=window,polyorder=polyorder)\n",
    "                \n",
    "            elif filter_=='moving average':\n",
    "\n",
    "                ma_window = np.ones( window ) / window \n",
    "                # calculate first half acceleration\n",
    "                ax.loc[:second_half_idx] = np.convolve( ax.loc[:second_half_idx] , ma_window, mode='same' ) \n",
    "                ay.loc[:second_half_idx] = np.convolve( ay.loc[:second_half_idx] , ma_window, mode='same' )      \n",
    "                # calculate second half acceleration\n",
    "                ax.loc[second_half_idx:] = np.convolve( ax.loc[second_half_idx:] , ma_window, mode='same' ) \n",
    "                ay.loc[second_half_idx:] = np.convolve( ay.loc[second_half_idx:] , ma_window, mode='same' )\n",
    "                \n",
    "                \n",
    "        # put player speed in x,y direction, and total speed back in the data frame\n",
    "        team[f'{player}_vx'] = vx\n",
    "        team[f'{player}_vy'] = vy\n",
    "        team[f'{player}_speed'] = np.sqrt( vx**2 + vy**2 )\n",
    "        \n",
    "\n",
    "        team[f'{player}_ax'] = ax\n",
    "        team[f'{player}_ay'] = ay\n",
    "        team[f'{player}_acceleration'] = np.sqrt( ax**2 + ay**2 )\n",
    "        \n",
    "        team[f'{player}_D'] = D\n",
    "\n",
    "    return team\n",
    "\n",
    "\n",
    "def remove_player_velocity_acceleration_distance(team):\n",
    "    \"\"\"\n",
    "    Clean up function: removes velocities, acceleration, and distance to goal\n",
    "    \"\"\"\n",
    "    # remove player velocities, acceleration, and distance to goal measures that are already in the 'team' dataframe\n",
    "    # so that they can be cleanly re-calculated\n",
    "    columns = [c for c in team.columns if c.split('_')[-1] in ['vx','vy','ax','ay','speed','acceleration','D']]\n",
    "    team = team.drop(columns=columns)\n",
    "    return team"
   ]
  },
  {
   "cell_type": "markdown",
   "metadata": {},
   "source": [
    "# **3)** Functions to create plots and videos"
   ]
  },
  {
   "cell_type": "code",
   "execution_count": null,
   "metadata": {},
   "outputs": [],
   "source": [
    "def plot_pitch( field_dimen = (106.0,68.0), field_color ='green', linewidth=2, markersize=20):\n",
    "    \"\"\" plot_pitch\n",
    "    \n",
    "    Plots a soccer pitch. All distance units converted to meters.\n",
    "    \n",
    "    Parameters\n",
    "    -----------\n",
    "        field_dimen: (length, width) of field in meters. Default is (106,68)\n",
    "        field_color: color of field. options are {'green','white'}\n",
    "        linewidth  : width of lines. default = 2\n",
    "        markersize : size of markers (e.g. penalty spot, centre spot, posts). default = 20\n",
    "        \n",
    "    Returrns\n",
    "    -----------\n",
    "       fig,ax : figure and aixs objects (so that other data can be plotted onto the pitch)\n",
    "\n",
    "    \"\"\"\n",
    "    fig,ax = plt.subplots(figsize=(12,8)) # create a figure \n",
    "    # decide what color we want the field to be. Default is green, but can also choose white\n",
    "    if field_color=='green':\n",
    "        ax.set_facecolor('mediumseagreen')\n",
    "        lc = 'whitesmoke' # line color\n",
    "        pc = 'w' # 'spot' colors\n",
    "    elif field_color=='white':\n",
    "        lc = 'k'\n",
    "        pc = 'k'\n",
    "    # ALL DIMENSIONS IN m\n",
    "    border_dimen = (3,3) # include a border arround of the field of width 3m\n",
    "    meters_per_yard = 0.9144 # unit conversion from yards to meters\n",
    "    half_pitch_length = field_dimen[0]/2. # length of half pitch\n",
    "    half_pitch_width = field_dimen[1]/2. # width of half pitch\n",
    "    signs = [-1,1] \n",
    "    # Soccer field dimensions typically defined in yards, so we need to convert to meters\n",
    "    goal_line_width = 8*meters_per_yard\n",
    "    box_width = 20*meters_per_yard\n",
    "    box_length = 6*meters_per_yard\n",
    "    area_width = 44*meters_per_yard\n",
    "    area_length = 18*meters_per_yard\n",
    "    penalty_spot = 12*meters_per_yard\n",
    "    corner_radius = 1*meters_per_yard\n",
    "    D_length = 8*meters_per_yard\n",
    "    D_radius = 10*meters_per_yard\n",
    "    D_pos = 12*meters_per_yard\n",
    "    centre_circle_radius = 10*meters_per_yard\n",
    "    # plot half way line # center circle\n",
    "    ax.plot([0,0],[-half_pitch_width,half_pitch_width],lc,linewidth=linewidth)\n",
    "    ax.scatter(0.0,0.0,marker='o',facecolor=lc,linewidth=0,s=markersize)\n",
    "    y = np.linspace(-1,1,50)*centre_circle_radius\n",
    "    x = np.sqrt(centre_circle_radius**2-y**2)\n",
    "    ax.plot(x,y,lc,linewidth=linewidth)\n",
    "    ax.plot(-x,y,lc,linewidth=linewidth)\n",
    "    for s in signs: # plots each line seperately\n",
    "        # plot pitch boundary\n",
    "        ax.plot([-half_pitch_length,half_pitch_length],[s*half_pitch_width,s*half_pitch_width],lc,linewidth=linewidth)\n",
    "        ax.plot([s*half_pitch_length,s*half_pitch_length],[-half_pitch_width,half_pitch_width],lc,linewidth=linewidth)\n",
    "        # goal posts & line\n",
    "        ax.plot( [s*half_pitch_length,s*half_pitch_length],[-goal_line_width/2.,goal_line_width/2.],pc+'s',markersize=6*markersize/20.,linewidth=linewidth)\n",
    "        # 6 yard box\n",
    "        ax.plot([s*half_pitch_length,s*half_pitch_length-s*box_length],[box_width/2.,box_width/2.],lc,linewidth=linewidth)\n",
    "        ax.plot([s*half_pitch_length,s*half_pitch_length-s*box_length],[-box_width/2.,-box_width/2.],lc,linewidth=linewidth)\n",
    "        ax.plot([s*half_pitch_length-s*box_length,s*half_pitch_length-s*box_length],[-box_width/2.,box_width/2.],lc,linewidth=linewidth)\n",
    "        # penalty area\n",
    "        ax.plot([s*half_pitch_length,s*half_pitch_length-s*area_length],[area_width/2.,area_width/2.],lc,linewidth=linewidth)\n",
    "        ax.plot([s*half_pitch_length,s*half_pitch_length-s*area_length],[-area_width/2.,-area_width/2.],lc,linewidth=linewidth)\n",
    "        ax.plot([s*half_pitch_length-s*area_length,s*half_pitch_length-s*area_length],[-area_width/2.,area_width/2.],lc,linewidth=linewidth)\n",
    "        # penalty spot\n",
    "        ax.scatter(s*half_pitch_length-s*penalty_spot,0.0,marker='o',facecolor=lc,linewidth=0,s=markersize)\n",
    "        # corner flags\n",
    "        y = np.linspace(0,1,50)*corner_radius\n",
    "        x = np.sqrt(corner_radius**2-y**2)\n",
    "        ax.plot(s*half_pitch_length-s*x,-half_pitch_width+y,lc,linewidth=linewidth)\n",
    "        ax.plot(s*half_pitch_length-s*x,half_pitch_width-y,lc,linewidth=linewidth)\n",
    "        # draw the D\n",
    "        y = np.linspace(-1,1,50)*D_length # D_length is the chord of the circle that defines the D\n",
    "        x = np.sqrt(D_radius**2-y**2)+D_pos\n",
    "        ax.plot(s*half_pitch_length-s*x,y,lc,linewidth=linewidth)\n",
    "        \n",
    "    # remove axis labels and ticks\n",
    "    ax.set_xticklabels([])\n",
    "    ax.set_yticklabels([])\n",
    "    ax.set_xticks([])\n",
    "    ax.set_yticks([])\n",
    "    # set axis limits\n",
    "    xmax = field_dimen[0]/2. + border_dimen[0]\n",
    "    ymax = field_dimen[1]/2. + border_dimen[1]\n",
    "    ax.set_xlim([-xmax,xmax])\n",
    "    ax.set_ylim([-ymax,ymax])\n",
    "    ax.set_axisbelow(True)\n",
    "    return fig,ax"
   ]
  },
  {
   "cell_type": "code",
   "execution_count": null,
   "metadata": {},
   "outputs": [],
   "source": [
    "def plot_frame(hometeam, awayteam, homeplayers, awayplayers, homemapping, awaymapping, figax=None, team_colors=('r','b'), field_colour='green', field_dimen = (106.0,68.0), include_player_velocities=False, PlayerMarkerSize=10, PlayerAlpha=0.7, annotate=False):\n",
    "    \"\"\" plot_frame( hometeam, awayteam )\n",
    "    \n",
    "    Have re-written Laurie's plotting function to plot Signality data and to also deal with the numpy typing error that was occuring.\n",
    "    Have also added team names, and the mapping from playerIndex number to the jersey number to allow for consistency of comparison of players between games.\n",
    "    \n",
    "    Parameters\n",
    "    -----------\n",
    "        hometeam: row (i.e. instant) of the home team tracking data frame\n",
    "        awayteam: row of the away team tracking data frame\n",
    "        fig,ax: Can be used to pass in the (fig,ax) objects of a previously generated pitch. Set to (fig,ax) to use an existing figure, or None (the default) to generate a new pitch plot, \n",
    "        team_colors: Tuple containing the team colors of the home & away team. Default is 'r' (red, home team) and 'b' (blue away team)\n",
    "        field_dimen: tuple containing the length and width of the pitch in meters. Default is (106,68)\n",
    "        include_player_velocities: Boolean variable that determines whether player velocities are also plotted (as quivers). Default is False\n",
    "        PlayerMarkerSize: size of the individual player marlers. Default is 10\n",
    "        PlayerAlpha: alpha (transparency) of player markers. Defaault is 0.7\n",
    "        annotate: Boolean variable that determines with player jersey numbers are added to the plot (default is False)\n",
    "        \n",
    "    Returrns\n",
    "    -----------\n",
    "       fig,ax : figure and aixs objects (so that other data can be plotted onto the pitch)\n",
    "\n",
    "    \"\"\"\n",
    "    \n",
    "    teamnames = [homeplayers.teamName[0], awayplayers.teamName[0]]\n",
    "    \n",
    "    homeIndexMapping = {homemapping[i]:i for i in homemapping}\n",
    "    awayIndexMapping = {awaymapping[i]:i for i in awaymapping}\n",
    "    \n",
    "    homeAwayMappings = [homeIndexMapping, awayIndexMapping]\n",
    "    \n",
    "    if figax is None: # create new pitch \n",
    "        fig,ax = plot_pitch(field_dimen = field_dimen, field_color=field_colour)\n",
    "    else: # overlay on a previously generated pitch\n",
    "        fig,ax = figax # unpack tuple\n",
    "        \n",
    "    # plot home & away teams in order\n",
    "    for team, color, name, mapping in zip( [hometeam, awayteam], team_colors, teamnames, homeAwayMappings) :\n",
    "\n",
    "        x_columns = [c for c in team.keys() if c[-2:].lower()=='_x' and c!='ball_x'] # column header for player x positions\n",
    "        y_columns = [c for c in team.keys() if c[-2:].lower()=='_y' and c!='ball_y'] # column header for player y positions\n",
    "\n",
    "        x = np.array(team[x_columns], dtype=np.float64)\n",
    "        y = np.array(team[y_columns], dtype=np.float64)\n",
    "\n",
    "        ax.plot( x, y, color+'o', MarkerSize=PlayerMarkerSize, alpha=PlayerAlpha, label=name ) # plot player positions\n",
    "\n",
    "        if include_player_velocities:\n",
    "            vx_columns = np.array(['{}_vx'.format(c[:-2]) for c in x_columns]) # column header for player x positions\n",
    "            vy_columns = np.array(['{}_vy'.format(c[:-2]) for c in y_columns]) # column header for player y positions\n",
    "\n",
    "            vx = np.array(team[vx_columns], dtype=np.float64)\n",
    "            vy = np.array(team[vy_columns], dtype=np.float64)\n",
    "\n",
    "            ax.quiver( x, y, vx, vy, color=color, scale_units='inches', scale=10.,width=0.0015,headlength=5,headwidth=3,alpha=PlayerAlpha)\n",
    "\n",
    "        if annotate:\n",
    "            [ ax.text( team[x]+0.5, team[y]+0.5, mapping[int(x.split('_')[1])], fontsize=10, color=color  ) for x,y in zip(x_columns,y_columns) if not ( np.isnan(team[x]) or np.isnan(team[y]) ) ] \n",
    "\n",
    "    # plot ball\n",
    "    ax.plot( hometeam['ball_x'], hometeam['ball_y'], 'ko', MarkerSize=6, alpha=1.0, LineWidth=0)\n",
    "    \n",
    "    return fig,ax\n"
   ]
  },
  {
   "cell_type": "code",
   "execution_count": null,
   "metadata": {},
   "outputs": [],
   "source": [
    "def save_match_clip(hometeam, awayteam, fpath, fname='clip_test', figax=None, frames_per_second=25, team_colors=('r','b'), field_dimen = (106.0,68.0), include_player_velocities=False, PlayerMarkerSize=10, PlayerAlpha=0.7):\n",
    "    \"\"\" save_match_clip( hometeam, awayteam, fpath )\n",
    "    \n",
    "    Re-written Laurie's function to deal with bug caused by numpy typing of the (x,y) co-ords as it was fed into the quiver to plot the velocities\n",
    "    Generates a movie from Signality tracking data, saving it in the 'fpath' directory with name 'fname'\n",
    "    \n",
    "    Parameters\n",
    "    -----------\n",
    "        hometeam: home team tracking data DataFrame. Movie will be created from all rows in the DataFrame\n",
    "        awayteam: away team tracking data DataFrame. The indices *must* match those of the hometeam DataFrame\n",
    "        fpath: directory to save the movie\n",
    "        fname: movie filename. Default is 'clip_test.mp4'\n",
    "        fig,ax: Can be used to pass in the (fig,ax) objects of a previously generated pitch. Set to (fig,ax) to use an existing figure, or None (the default) to generate a new pitch plot,\n",
    "        frames_per_second: frames per second to assume when generating the movie. Default is 25.\n",
    "        team_colors: Tuple containing the team colors of the home & away team. Default is 'r' (red, home team) and 'b' (blue away team)\n",
    "        field_dimen: tuple containing the length and width of the pitch in meters. Default is (106,68)\n",
    "        include_player_velocities: Boolean variable that determines whether player velocities are also plotted (as quivers). Default is False\n",
    "        PlayerMarkerSize: size of the individual player marlers. Default is 10\n",
    "        PlayerAlpha: alpha (transparency) of player markers. Default is 0.7\n",
    "        \n",
    "    Returrns\n",
    "    -----------\n",
    "       fig,ax : figure and aixs objects (so that other data can be plotted onto the pitch)\n",
    "\n",
    "    \"\"\"\n",
    "    # check that indices match first\n",
    "    assert np.all( hometeam.index==awayteam.index ), \"Home and away team Dataframe indices must be the same\"\n",
    "    \n",
    "    # in which case use home team index\n",
    "    index = hometeam.index\n",
    "    \n",
    "    # Set figure and movie settings\n",
    "    FFMpegWriter = animation.writers['ffmpeg']\n",
    "    metadata = dict(title='Tracking Data', artist='Matplotlib', comment='Metrica tracking data clip')\n",
    "    writer = FFMpegWriter(fps=frames_per_second, metadata=metadata)\n",
    "    fname = fpath + '/' +  fname + '.mp4' # path and filename\n",
    "    \n",
    "    # create football pitch\n",
    "    if figax is None:\n",
    "        fig,ax = plot_pitch(field_dimen=field_dimen)\n",
    "    else:\n",
    "        fig,ax = figax\n",
    "    fig.set_tight_layout(True)\n",
    "    \n",
    "    # Generate movie\n",
    "    print(\"Generating movie...\",end='')\n",
    "    with writer.saving(fig, fname, 100):\n",
    "        for i in index:\n",
    "            figobjs = [] # this is used to collect up all the axis objects so that they can be deleted after each iteration\n",
    "            for team,color in zip( [hometeam.loc[i],awayteam.loc[i]], team_colors) :\n",
    "                x_columns = [c for c in team.keys() if c[-2:].lower()=='_x' and c!='ball_x'] # column header for player x positions\n",
    "                y_columns = [c for c in team.keys() if c[-2:].lower()=='_y' and c!='ball_y'] # column header for player y positions\n",
    "                \n",
    "                x = np.array(team[x_columns], dtype=np.float64)\n",
    "                y = np.array(team[y_columns], dtype=np.float64)\n",
    "                \n",
    "                objs, = ax.plot( x, y, color+'o', MarkerSize=PlayerMarkerSize, alpha=PlayerAlpha ) # plot player positions\n",
    "                figobjs.append(objs)\n",
    "                if include_player_velocities:\n",
    "                    vx_columns = ['{}_vx'.format(c[:-2]) for c in x_columns] # column header for player x positions\n",
    "                    vy_columns = ['{}_vy'.format(c[:-2]) for c in y_columns] # column header for player y positions\n",
    "                    \n",
    "                    vx = np.array(team[vx_columns], dtype=np.float64)\n",
    "                    vy = np.array(team[vy_columns], dtype=np.float64)\n",
    "                    \n",
    "                    objs = ax.quiver( x, y, vx, vy, color=color, scale_units='inches', scale=10.,width=0.0015,headlength=5,headwidth=3,alpha=PlayerAlpha)\n",
    "                    figobjs.append(objs)\n",
    "                    \n",
    "            # plot ball\n",
    "            objs, = ax.plot( team['ball_x'], team['ball_y'], 'ko', MarkerSize=6, alpha=1.0, LineWidth=0)\n",
    "            figobjs.append(objs)\n",
    "            \n",
    "            # include match time at the top\n",
    "            frame_minute =  int( team['Time [s]']/60. )\n",
    "            frame_second =  ( team['Time [s]']/60. - frame_minute ) * 60.\n",
    "            timestring = \"%d:%1.2f\" % ( frame_minute, frame_second  )\n",
    "            objs = ax.text(-2.5,field_dimen[1]/2.+1., timestring, fontsize=14 )\n",
    "            figobjs.append(objs)\n",
    "            writer.grab_frame()\n",
    "            \n",
    "            # Delete all axis objects (other than pitch lines) in preperation for next frame\n",
    "            for figobj in figobjs:\n",
    "                figobj.remove()\n",
    "                \n",
    "    print(\"\\nMovie Completed.\")\n",
    "    plt.clf()\n",
    "    plt.close(fig)    "
   ]
  },
  {
   "cell_type": "markdown",
   "metadata": {},
   "source": [
    "# **4) Functions to Calculate Running Metrics**"
   ]
  },
  {
   "cell_type": "code",
   "execution_count": null,
   "metadata": {},
   "outputs": [],
   "source": [
    "def summarise_match_running(df_players, df_tracks, playerJerseyMapping, pitchLength = 104.6, jogThreshold=2, runThreshold=4, sprintThreshold=7, plotDistances=True):\n",
    "    \"\"\"\n",
    "    Builds on Laurie's code and uses his neat convolution trick to extract frame indices\n",
    "    \"\"\"\n",
    "    \n",
    "    playerJerseyMapping = {playerJerseyMapping[i]:i for i in playerJerseyMapping}\n",
    "    \n",
    "    df_summary = df_players.copy()\n",
    "    \n",
    "    # (1) Minutes played per player\n",
    "    minutes = []\n",
    "    for player in df_summary.playerIndex:\n",
    "        # search for first and last frames that we have a position observation for each player (when a player is not on the pitch positions are NaN)\n",
    "        column = f'Home_{player}_x' # use player x-position coordinate\n",
    "        player_minutes = len(df_tracks.loc[pd.isna(df_tracks[column]) == False]) / (25*60)\n",
    "        minutes.append( player_minutes )\n",
    "    df_summary['Minutes Played'] = np.round(minutes, 2)\n",
    "    \n",
    "    # (2) Calculating total distance covered (essentialy integrating velocity over the constant timesteps)\n",
    "    distance = []\n",
    "    dt = 1/25\n",
    "    for player in df_summary.playerIndex:\n",
    "        column = f'Home_{player}_speed'\n",
    "        player_distance = df_tracks[column].sum()*dt/1000\n",
    "        distance.append(player_distance)\n",
    "    df_summary['Distance [km]'] = np.round(distance, 2)\n",
    "    \n",
    "    # (3) Calculate distance covered while: walking, joggings, running, sprinting\n",
    "    walking = []\n",
    "    jogging = []\n",
    "    running = []\n",
    "    sprinting = []\n",
    "\n",
    "    for player in df_summary.playerIndex:\n",
    "        column = f'Home_{player}_speed'\n",
    "        \n",
    "        # walking (less than 2 m/s)\n",
    "        player_distance = df_tracks.loc[df_tracks[column] < jogThreshold, column].sum()/25./1000\n",
    "        walking.append(player_distance)\n",
    "        \n",
    "        # jogging (between 2 and 4 m/s)\n",
    "        player_distance = df_tracks.loc[(df_tracks[column] >= jogThreshold) & (df_tracks[column] < runThreshold), column].sum()/25./1000\n",
    "        jogging.append(player_distance)\n",
    "        \n",
    "        # running (between 4 and 7 m/s)\n",
    "        player_distance = df_tracks.loc[(df_tracks[column] >= runThreshold) & (df_tracks[column] < sprintThreshold), column].sum()/25./1000\n",
    "        running.append(player_distance)\n",
    "        \n",
    "        # sprinting (greater than 7 m/s)\n",
    "        player_distance = df_tracks.loc[df_tracks[column] >= sprintThreshold, column].sum()/25./1000\n",
    "        sprinting.append(player_distance)\n",
    "\n",
    "    df_summary['Walking [km]'] = np.round(np.array(walking), 2)\n",
    "    df_summary['Jogging [km]'] = np.round(np.array(jogging), 2)\n",
    "    df_summary['Running [km]'] = np.round(np.array(running), 2)\n",
    "    df_summary['Sprinting [km]'] = np.round(np.array(sprinting), 2)\n",
    "    \n",
    "    if plotDistances:\n",
    "        ax = df_summary.sort_values('Distance [km]', ascending=False).plot.bar(x='jersey_number', y=['Walking [km]','Jogging [km]','Running [km]','Sprinting [km]'], colormap='coolwarm', figsize=(16,8))\n",
    "        ax.set_xlabel('Jersey Number', fontsize=20)\n",
    "        ax.set_ylabel('Distance covered [m]', fontsize=20)\n",
    "        ax.legend(fontsize=20)\n",
    "    \n",
    "    ########################################################################################################\n",
    "    ######       NOW WE CALCULATE THE SPECIFIC METRICS FOR THE FINAL PART OF THE ASSIGNEMENT          ######\n",
    "    ########################################################################################################\n",
    "    \n",
    "    # sustained sprints: how many sustained sprints per match did each player complete? Defined as maintaining a speed > 7 m/s for at least 1 second\n",
    "    nsprints = []\n",
    "    nruns = []\n",
    "    dic_runs = {}\n",
    "    \n",
    "    # minimum duration sprint should be sustained (in this case, 1 second = 25 consecutive frames)\n",
    "    sprint_window = 25\n",
    "    for player in df_players.playerIndex:\n",
    "        column = f'Home_{player}_speed'\n",
    "        column_x = f'Home_{player}_x'\n",
    "        column_y = f'Home_{player}_y'\n",
    "        \n",
    "        ### LAURIE'S CONVOLUTION TRICK ###\n",
    "        # trick here is to convolve speed with a window of size 'sprint_window', and find number of occassions that sprint was sustained for at least one window length\n",
    "        # diff helps us to identify when the window starts\n",
    "        player_sprints = np.diff( 1*( np.convolve( 1*(df_tracks[column]>=sprintThreshold), np.ones(sprint_window), mode='same' ) >= sprint_window ) )\n",
    "\n",
    "        # to make sure runs and sprints are disjoint, let's handle them both with a lower limit, then take one from t'other at the end\n",
    "        player_runs = np.diff( 1*( np.convolve( 1*(df_tracks[column]>=runThreshold), np.ones(sprint_window), mode='same' ) >= sprint_window ) )\n",
    "        \n",
    "        # counting the runs / sprints\n",
    "        nsprints.append(np.sum(player_sprints == 1))\n",
    "        nruns.append(np.sum(player_runs == 1))\n",
    "        \n",
    "        # getting the indices of the runs and sprints\n",
    "        player_sprints_start = np.where( player_sprints == 1 )[0] - int(sprint_window/2) + 1 # adding sprint_window/2 because of the way that the convolution is centred\n",
    "        player_sprints_end = np.where( player_sprints == -1 )[0] + int(sprint_window/2) + 1\n",
    "        \n",
    "        player_runs_start = np.where( player_runs == 1 )[0] - int(sprint_window/2) + 1 # adding sprint_window/2 because of the way that the convolution is centred\n",
    "        player_runs_end = np.where( player_runs == -1 )[0] + int(sprint_window/2) + 1\n",
    "        \n",
    "        ## will now loop through the runs and sprints and figure out whether they were forward / backward / right / left, and whether they occured in the final third\n",
    "        for n, (r_start, r_end) in enumerate(zip(player_runs_start, player_runs_end)):\n",
    "            \n",
    "            # getting the run delta y and delta x\n",
    "            dy = df_tracks.loc[r_end, column_y] - df_tracks.loc[r_start, column_y]\n",
    "            dx = df_tracks.loc[r_end, column_x] - df_tracks.loc[r_start, column_x]\n",
    "            \n",
    "            # getting the list of x coords so that we can see whether the run occured in the final third\n",
    "            list_x = df_tracks.loc[r_start:r_end, column_x].values\n",
    "            \n",
    "            # initially started just looking at final third runs\n",
    "            # but more interesting data when you look just in the opponents half\n",
    "            final_third_threshold = 0#(pitchLength/3) - (pitchLength/2)\n",
    "            final_third_flag = 1 if sum([1 if i < final_third_threshold else 0 for i in list_x]) > 0 else 0\n",
    "            \n",
    "            # classifying whether a run was left, right, back or forward\n",
    "            if abs(dy) > abs(dx):\n",
    "                if dy > 0:\n",
    "                    run_direction = 'L'\n",
    "                elif dy <= 0:\n",
    "                    run_direction = 'R'\n",
    "            elif abs(dx) >= abs(dy):\n",
    "                if dx > 0:\n",
    "                    run_direction = 'B'\n",
    "                elif dx <= 0:\n",
    "                    run_direction = 'F'\n",
    "            \n",
    "            dic_runs[f'{player}-{n+1}'] = [player, playerJerseyMapping[player], n+1, dy, dx, run_direction, final_third_flag, np.arange(r_start, r_end+1)]\n",
    "    \n",
    "    # transforming dic_runs dictionary -> dataframe\n",
    "    dic_cols = ['playerIndex','jersey_number','runIndex','dy','dx','runDirection','finalThirdFlag','timeIndexArray']\n",
    "    df_final_third = pd.DataFrame.from_dict(dic_runs, orient='index', columns=dic_cols)\n",
    "    \n",
    "    # just looking at runs in opponents half / final third\n",
    "    df_final_third = df_final_third.loc[df_final_third['finalThirdFlag'] == 1]\n",
    "    \n",
    "    # summarising directional runs pivoting to produce directional run counts per player per match\n",
    "    df_directional_runs = df_final_third.groupby(['jersey_number','runDirection'])\\\n",
    "                            .agg({'runIndex':'nunique'})\\\n",
    "                            .reset_index()\\\n",
    "                            .rename(columns={'runIndex':'numDirectionRuns'})\\\n",
    "                            .pivot(index='jersey_number', columns='runDirection', values='numDirectionRuns')\\\n",
    "                            .reset_index()\n",
    "    \n",
    "    \n",
    "    df_summary['numSprints'] = nsprints\n",
    "    df_summary['numRuns'] = nruns\n",
    "    df_summary['numRuns'] = df_summary['numRuns'] - df_summary['numSprints']\n",
    "    \n",
    "    df_summary = df_summary.merge(df_directional_runs, on='jersey_number', how='inner')\n",
    "    \n",
    "    df_summary = df_summary.sort_values('Distance [km]', ascending=False)\n",
    "    df_summary = df_summary[['jersey_number','name','Minutes Played','Distance [km]'\\\n",
    "                             ,'Walking [km]','Jogging [km]','Running [km]','Sprinting [km]'\\\n",
    "                             ,'numRuns','numSprints','B','F','L','R']].reset_index(drop=True)\n",
    "    \n",
    "    ########################################################################################################\n",
    "    ######                                       SHEARING RUN  COMBINATIONS                           ######\n",
    "    ########################################################################################################   \n",
    "    \n",
    "    # producing a df of paired runs\n",
    "    df_join = df_final_third.merge(df_final_third, on='finalThirdFlag', how='inner', suffixes=('_main','_other'))\n",
    "\n",
    "    # only looking at paired runs in the final third\n",
    "    df_join = df_join.loc[df_join['finalThirdFlag'] == 1]\n",
    "\n",
    "    # getting rid of self runs, and removing dupes\n",
    "    df_join = df_join.loc[(df_join['jersey_number_main'] < df_join['jersey_number_other'])]\n",
    "\n",
    "    # looking at R/L or L/R runs\n",
    "    df_join = df_join.loc[((df_join['runDirection_main'] == 'R') & (df_join['runDirection_other'] == 'L')) | ((df_join['runDirection_main'] == 'L') & (df_join['runDirection_other'] == 'R'))]\n",
    "\n",
    "    # now getting the paired runs that overlapped with each other\n",
    "    df_join['shearFrames'] = df_join.apply(lambda x: [i for i in x.timeIndexArray_main if i in x.timeIndexArray_other], axis=1)\n",
    "\n",
    "    # getting the sync fraction of the shear run\n",
    "    df_join['shearOverlapFraction'] = df_join.apply(lambda x: 2*len(x.shearFrames) / (len(x.timeIndexArray_main) + len(x.timeIndexArray_other)), axis=1)\n",
    "\n",
    "    df_join['shearTime [s]'] = df_join.shearFrames.apply(lambda x: len(x)/25)\n",
    "\n",
    "    df_join = df_join.loc[df_join['shearTime [s]'] > 0]\n",
    "\n",
    "    df_shear = df_join.groupby(['jersey_number_main','jersey_number_other'])\\\n",
    "            .agg({'finalThirdFlag':np.sum, 'shearTime [s]':np.sum, 'shearOverlapFraction':lambda x: np.round(np.mean(x), 2)})\\\n",
    "            .reset_index()\\\n",
    "            .rename(columns={'finalThirdFlag':'numberShearCombos'})   \n",
    "    \n",
    "    ########################################################################################################\n",
    "    ######          SHEARING RUN COMBINATIONS THAT HAVE A THIRD FORWARD RUNNING PLAYER                ######\n",
    "    ######################################################################################################## \n",
    "    \n",
    "    # getting forward runs\n",
    "    df_forward = df_final_third.loc[df_final_third['runDirection'] == 'F']\n",
    "\n",
    "    # joining that forward run into the paired data frame\n",
    "    df_forward = df_join.merge(df_forward, on='finalThirdFlag')\n",
    "\n",
    "    # getting overlapping frames between forward runner and the shearing runs\n",
    "    df_forward['forwardShearFrames'] = df_forward.apply(lambda x: [i for i in x.shearFrames if i in x.timeIndexArray], axis=1)\n",
    "\n",
    "    # getting the time that the forward run overlaps with the shearing runs\n",
    "    df_forward['shearTimeForward [s]'] = df_forward.forwardShearFrames.apply(lambda x: len(x)/25)\n",
    "\n",
    "    # filtering out cases where there's no forward run overlapping with the shears\n",
    "    df_forward = df_forward.loc[df_forward['shearTimeForward [s]'] > 0]\n",
    "\n",
    "    # summarising\n",
    "    df_forward_shear = df_forward.groupby(['jersey_number_main','jersey_number_other','jersey_number'])\\\n",
    "                    .agg({'finalThirdFlag':np.sum, 'shearTimeForward [s]':np.sum})\\\n",
    "                    .reset_index()\\\n",
    "                    .rename(columns={'finalThirdFlag':'numberShearCombos','jersey_number':'jersey_number_forward_runner'})\n",
    "    \n",
    "    return df_summary, df_shear, df_forward_shear"
   ]
  },
  {
   "cell_type": "markdown",
   "metadata": {},
   "source": [
    "---\n",
    "\n",
    "&nbsp;\n",
    "\n",
    "&nbsp;\n",
    "\n",
    "&nbsp;\n",
    "\n",
    "# Will organise the code such that it goes through the assignment top to bottom.\n",
    "\n",
    "## 1) **4 frame plots**"
   ]
  },
  {
   "cell_type": "markdown",
   "metadata": {},
   "source": [
    "### 1.1) **Vs IF Elfsborg**"
   ]
  },
  {
   "cell_type": "code",
   "execution_count": null,
   "metadata": {},
   "outputs": [],
   "source": [
    "%%time\n",
    "\n",
    "# load tracking data for a given match\n",
    "df_homePlayersElf, df_awayPlayersElf, df_homeTracksElf, df_awayTracksElf, pitchLengthElf, pitchWidthElf, homeJerseyMappingElf, awayJerseyMappingElf = \\\n",
    "parse_raw_to_df(signalityRepo, '20190722.Hammarby-IFElfsborg', interpolate=True)\n",
    "\n",
    "# calculating velocities, accelerations, distances to goal and other metrics\n",
    "df_homeTracksElf = calc_player_velocities(df_homeTracksElf, pitchLengthElf, smoothing=True, filter_='Savitzky-Golay', window=7, polyorder=1, maxspeed = 12)\n",
    "df_awayTracksElf = calc_player_velocities(df_awayTracksElf, pitchLengthElf, smoothing=True, filter_='Savitzky-Golay', window=7, polyorder=1, maxspeed = 12)"
   ]
  },
  {
   "cell_type": "markdown",
   "metadata": {},
   "source": [
    "### Elfsborg teamsheets"
   ]
  },
  {
   "cell_type": "code",
   "execution_count": null,
   "metadata": {},
   "outputs": [],
   "source": [
    "df_homePlayersElf"
   ]
  },
  {
   "cell_type": "code",
   "execution_count": null,
   "metadata": {},
   "outputs": [],
   "source": [
    "df_awayPlayersElf"
   ]
  },
  {
   "cell_type": "markdown",
   "metadata": {},
   "source": [
    "### FIG 1"
   ]
  },
  {
   "cell_type": "code",
   "execution_count": null,
   "metadata": {},
   "outputs": [],
   "source": [
    "frameIdx = 26828\n",
    "fig, ax = plot_frame(df_homeTracksElf.loc[frameIdx], df_awayTracksElf.loc[frameIdx], df_homePlayersElf, df_awayPlayersElf, homeJerseyMappingElf, awayJerseyMappingElf\\\n",
    "                     ,include_player_velocities=True, annotate=True, team_colors=('r','y'), field_colour='green', PlayerAlpha=0.8)\n",
    "\n",
    "fig.legend(loc='upper center', fontsize=17)\n",
    "\n",
    "plt.savefig('Elfsborg_Goal_1.pdf', dpi=300, format='pdf', transparent=False, bbox_inches='tight')"
   ]
  },
  {
   "cell_type": "markdown",
   "metadata": {},
   "source": [
    "### 1.2) **Vs Malmo FF**"
   ]
  },
  {
   "cell_type": "code",
   "execution_count": null,
   "metadata": {},
   "outputs": [],
   "source": [
    "%%time\n",
    "\n",
    "# load tracking data for a given match\n",
    "df_homePlayersMal, df_awayPlayersMal, df_homeTracksMal, df_awayTracksMal, pitchLengthMal, pitchWidthMal, homeJerseyMappingMal, awayJerseyMappingMal = \\\n",
    "parse_raw_to_df(signalityRepo, '20191020.Hammarby-MalmöFF', interpolate=True)\n",
    "\n",
    "df_homeTracksMal = calc_player_velocities(df_homeTracksMal, pitchLengthMal, smoothing=True, filter_='Savitzky-Golay', window=7, polyorder=1, maxspeed = 12)\n",
    "df_awayTracksMal = calc_player_velocities(df_awayTracksMal, pitchLengthMal, smoothing=True, filter_='Savitzky-Golay', window=7, polyorder=1, maxspeed = 12)"
   ]
  },
  {
   "cell_type": "markdown",
   "metadata": {},
   "source": [
    "### Malmo teamsheets"
   ]
  },
  {
   "cell_type": "code",
   "execution_count": null,
   "metadata": {},
   "outputs": [],
   "source": [
    "df_homePlayersMal"
   ]
  },
  {
   "cell_type": "code",
   "execution_count": null,
   "metadata": {},
   "outputs": [],
   "source": [
    "df_awayPlayersMal"
   ]
  },
  {
   "cell_type": "markdown",
   "metadata": {},
   "source": [
    "### FIG 2"
   ]
  },
  {
   "cell_type": "code",
   "execution_count": null,
   "metadata": {},
   "outputs": [],
   "source": [
    "frameIdx = 21032\n",
    "fig, ax = plot_frame(df_homeTracksMal.loc[frameIdx], df_awayTracksMal.loc[frameIdx], df_homePlayersMal, df_awayPlayersMal, homeJerseyMappingMal, awayJerseyMappingMal\\\n",
    "                     ,include_player_velocities=True, annotate=True, team_colors=('r','b'), field_colour='green', PlayerAlpha=0.8)\n",
    "\n",
    "fig.legend(loc='upper center', fontsize=17)\n",
    "\n",
    "plt.savefig('Malmo_Goal_1.pdf', dpi=300, format='pdf', transparent=False, bbox_inches='tight')"
   ]
  },
  {
   "cell_type": "markdown",
   "metadata": {},
   "source": [
    "### 1.3) **Vs Orebro**"
   ]
  },
  {
   "cell_type": "code",
   "execution_count": null,
   "metadata": {},
   "outputs": [],
   "source": [
    "%%time\n",
    "\n",
    "# load tracking data for a given match\n",
    "df_homePlayersOre, df_awayPlayersOre, df_homeTracksOre, df_awayTracksOre, pitchLengthOre, pitchWidthOre, homeJerseyMappingOre, awayJerseyMappingOre = \\\n",
    "parse_raw_to_df(signalityRepo, '20190930.Hammarby-Örebrö', interpolate=True)\n",
    "\n",
    "df_homeTracksOre = calc_player_velocities(df_homeTracksOre, pitchLengthOre, smoothing=True, filter_='Savitzky-Golay', window=7, polyorder=1, maxspeed = 12)\n",
    "df_awayTracksOre = calc_player_velocities(df_awayTracksOre, pitchLengthOre, smoothing=True, filter_='Savitzky-Golay', window=7, polyorder=1, maxspeed = 12)"
   ]
  },
  {
   "cell_type": "markdown",
   "metadata": {},
   "source": [
    "### Orebro teamsheets"
   ]
  },
  {
   "cell_type": "code",
   "execution_count": null,
   "metadata": {},
   "outputs": [],
   "source": [
    "df_homePlayersOre"
   ]
  },
  {
   "cell_type": "code",
   "execution_count": null,
   "metadata": {},
   "outputs": [],
   "source": [
    "df_awayPlayersOre"
   ]
  },
  {
   "cell_type": "markdown",
   "metadata": {},
   "source": [
    "### FIG 3"
   ]
  },
  {
   "cell_type": "code",
   "execution_count": null,
   "metadata": {},
   "outputs": [],
   "source": [
    "frameIdx = 58300\n",
    "fig, ax = plot_frame(df_homeTracksOre.loc[frameIdx], df_awayTracksOre.loc[frameIdx], df_homePlayersOre, df_awayPlayersOre, homeJerseyMappingOre, awayJerseyMappingOre\\\n",
    "                     ,include_player_velocities=True, annotate=True, team_colors=('r','k'), field_colour='green', PlayerAlpha=0.8)\n",
    "\n",
    "fig.legend(loc='upper center', fontsize=17)\n",
    "\n",
    "plt.savefig('Orebro_Goal_1_scored.pdf', dpi=300, format='pdf', transparent=False, bbox_inches='tight')"
   ]
  },
  {
   "cell_type": "markdown",
   "metadata": {},
   "source": [
    "### FIG 4"
   ]
  },
  {
   "cell_type": "code",
   "execution_count": null,
   "metadata": {},
   "outputs": [],
   "source": [
    "frameIdx = 16220\n",
    "fig, ax = plot_frame(df_homeTracksOre.loc[frameIdx], df_awayTracksOre.loc[frameIdx], df_homePlayersOre, df_awayPlayersOre, homeJerseyMappingOre, awayJerseyMappingOre\\\n",
    "                     ,include_player_velocities=True, annotate=True, team_colors=('r','k'), field_colour='green', PlayerAlpha=0.8)\n",
    "\n",
    "fig.legend(loc='upper center', fontsize=17)\n",
    "\n",
    "plt.savefig('Orebro_Goal_1_conceded.pdf', dpi=300, format='pdf', transparent=False, bbox_inches='tight')"
   ]
  },
  {
   "cell_type": "markdown",
   "metadata": {},
   "source": [
    "---\n",
    "\n",
    "&nbsp;\n",
    "\n",
    "&nbsp;\n",
    "\n",
    "\n",
    "## **2) Insights & Limitations**\n",
    "\n",
    "> 15 second plots of distance from goal, speed, and acceleration for Hammarby over 15 second horizons.\n",
    "\n",
    "> Illustrate when the tracking data is accurate, and when the tracking data is less than accurate..."
   ]
  },
  {
   "cell_type": "markdown",
   "metadata": {},
   "source": [
    "## 2.1) Mapping Errors"
   ]
  },
  {
   "cell_type": "markdown",
   "metadata": {},
   "source": [
    "### **Reloading Velocities (no velocity smoothing or maxspeed cap)**"
   ]
  },
  {
   "cell_type": "code",
   "execution_count": null,
   "metadata": {},
   "outputs": [],
   "source": [
    "%%time\n",
    "\n",
    "df_homeTracksElf = calc_player_velocities(df_homeTracksElf, pitchLengthElf, smoothing=False, filter_='Savitzky-Golay', window=7, polyorder=1, maxspeed = 10000)\n",
    "df_awayTracksElf = calc_player_velocities(df_awayTracksElf, pitchLengthElf, smoothing=False, filter_='Savitzky-Golay', window=7, polyorder=1, maxspeed = 10000)"
   ]
  },
  {
   "cell_type": "markdown",
   "metadata": {},
   "source": [
    "### **Plotting Mapping Error**"
   ]
  },
  {
   "cell_type": "code",
   "execution_count": null,
   "metadata": {},
   "outputs": [],
   "source": [
    "fig, (ax1, ax2, ax3) = plt.subplots(3, sharex=True, figsize=(50,42))\n",
    "\n",
    "mappingErrorStart = 88300\n",
    "mappingErrorFinish = mappingErrorStart + (15*25 - 1)\n",
    "\n",
    "df_mappingErrorViz = df_homeTracksElf.loc[mappingErrorStart:mappingErrorFinish]\n",
    "\n",
    "# code to help pick out specific jerseys\n",
    "pattern = r'Home_(\\d+)_'\n",
    "homePlayerIndexMapping = {homeJerseyMappingElf[i]:i for i in homeJerseyMappingElf}\n",
    "\n",
    "#specifying jerseys of interest\n",
    "lstJerseysInterest = [5,7]\n",
    "\n",
    "# getting x indices\n",
    "x_ = (df_mappingErrorViz.index/(25*60))\n",
    "\n",
    "D_cols = [i for i in df_mappingErrorViz if i[-1] == 'D']\n",
    "v_cols = [i for i in df_mappingErrorViz if i[-5:] == 'speed']\n",
    "a_cols = [i for i in df_mappingErrorViz if i[-12:] == 'acceleration']\n",
    "\n",
    "for player in D_cols:\n",
    "    \n",
    "    jNumber = homePlayerIndexMapping[int(re.search(pattern, player).group(1))]\n",
    "    pName = df_homePlayersElf.loc[df_homePlayersElf['jersey_number'] == jNumber].name.values[0]\n",
    "    \n",
    "    if jNumber in lstJerseysInterest:\n",
    "        ax1.plot(x_, df_mappingErrorViz[player], lw=3)\n",
    "    else:\n",
    "        ax1.plot(x_, df_mappingErrorViz[player], alpha=0.4)\n",
    "    \n",
    "for player in v_cols:\n",
    "    \n",
    "    jNumber = homePlayerIndexMapping[int(re.search(pattern, player).group(1))]\n",
    "    pName = df_homePlayersElf.loc[df_homePlayersElf['jersey_number'] == jNumber].name.values[0]\n",
    "    \n",
    "    if jNumber in lstJerseysInterest:\n",
    "        ax2.plot(x_, df_mappingErrorViz[player], lw=3, label = f'{pName} (#{jNumber})')\n",
    "    else:\n",
    "        ax2.plot(x_, df_mappingErrorViz[player], alpha=0.4)\n",
    "    \n",
    "for player in a_cols:\n",
    "    jNumber = homePlayerIndexMapping[int(re.search(pattern, player).group(1))]\n",
    "    pName = df_homePlayersElf.loc[df_homePlayersElf['jersey_number'] == jNumber].name.values[0]\n",
    "    \n",
    "    if jNumber in lstJerseysInterest:\n",
    "        ax3.plot(x_, df_mappingErrorViz[player], lw=3)\n",
    "    else:\n",
    "        ax3.plot(x_, df_mappingErrorViz[player], alpha=0.4)\n",
    "\n",
    "\n",
    "ax1.set_ylabel(r'Distance from Goal (m)', fontsize=22)\n",
    "ax2.set_ylabel(r'Speed (ms$^{-1}$)', fontsize=22)\n",
    "ax3.set_ylabel(r'Acceleration (ms$^{-2}$)', fontsize=22)\n",
    "\n",
    "# transforming ticks from min.min to min:secs\n",
    "existingTicks = ax3.get_xticks()\n",
    "newTicks = [\"%02dm:%02ds\" % (int(i), (i*60)%60) for i in existingTicks]\n",
    "ax3.set_xticklabels(newTicks, fontsize=20)\n",
    "\n",
    "# setting y-axis tick label size\n",
    "ax1.set_yticklabels(ax1.get_yticks(), fontsize=20)\n",
    "ax2.set_yticklabels(ax2.get_yticks(), fontsize=20)\n",
    "ax3.set_yticklabels(ax3.get_yticks(), fontsize=20)\n",
    "\n",
    "fig.legend(loc='center right', fontsize=24)\n",
    "\n",
    "\n",
    "plt.savefig('MappingError.pdf', dpi=300, format='pdf', bbox_inches='tight')\n"
   ]
  },
  {
   "cell_type": "markdown",
   "metadata": {},
   "source": [
    "### Photo Clips of Mapping Error"
   ]
  },
  {
   "cell_type": "code",
   "execution_count": null,
   "metadata": {},
   "outputs": [],
   "source": [
    "frameIdx = 88401\n",
    "\n",
    "fig, ax = plot_frame(df_homeTracksElf.loc[frameIdx], df_awayTracksElf.loc[frameIdx], df_homePlayersElf, df_awayPlayersElf, homeJerseyMappingElf, awayJerseyMappingElf\\\n",
    "                     ,include_player_velocities=True, annotate=True, team_colors=('r','y'), field_colour='green', PlayerAlpha=0.8)"
   ]
  },
  {
   "cell_type": "code",
   "execution_count": null,
   "metadata": {},
   "outputs": [],
   "source": [
    "frameIdx = 88402\n",
    "\n",
    "fig, ax = plot_frame(df_homeTracksElf.loc[frameIdx], df_awayTracksElf.loc[frameIdx], df_homePlayersElf, df_awayPlayersElf, homeJerseyMappingElf, awayJerseyMappingElf\\\n",
    "                     ,include_player_velocities=True, annotate=True, team_colors=('r','y'), field_colour='green', PlayerAlpha=0.8)"
   ]
  },
  {
   "cell_type": "code",
   "execution_count": null,
   "metadata": {},
   "outputs": [],
   "source": [
    "frameIdx = 88403\n",
    "\n",
    "fig, ax = plot_frame(df_homeTracksElf.loc[frameIdx], df_awayTracksElf.loc[frameIdx], df_homePlayersElf, df_awayPlayersElf, homeJerseyMappingElf, awayJerseyMappingElf\\\n",
    "                     ,include_player_velocities=True, annotate=True, team_colors=('r','y'), field_colour='green', PlayerAlpha=0.8)"
   ]
  },
  {
   "cell_type": "markdown",
   "metadata": {},
   "source": [
    "### Player mappings revert 100 frames later..."
   ]
  },
  {
   "cell_type": "code",
   "execution_count": null,
   "metadata": {},
   "outputs": [],
   "source": [
    "frameIdx = 88501\n",
    "\n",
    "fig, ax = plot_frame(df_homeTracksElf.loc[frameIdx], df_awayTracksElf.loc[frameIdx], df_homePlayersElf, df_awayPlayersElf, homeJerseyMappingElf, awayJerseyMappingElf\\\n",
    "                     ,include_player_velocities=True, annotate=True, team_colors=('r','y'), field_colour='green', PlayerAlpha=0.8)"
   ]
  },
  {
   "cell_type": "code",
   "execution_count": null,
   "metadata": {},
   "outputs": [],
   "source": [
    "frameIdx = 88503\n",
    "\n",
    "fig, ax = plot_frame(df_homeTracksElf.loc[frameIdx], df_awayTracksElf.loc[frameIdx], df_homePlayersElf, df_awayPlayersElf, homeJerseyMappingElf, awayJerseyMappingElf\\\n",
    "                     ,include_player_velocities=True, annotate=True, team_colors=('r','y'), field_colour='green', PlayerAlpha=0.8)"
   ]
  },
  {
   "cell_type": "code",
   "execution_count": null,
   "metadata": {},
   "outputs": [],
   "source": [
    "frameIdx = 88505\n",
    "\n",
    "fig, ax = plot_frame(df_homeTracksElf.loc[frameIdx], df_awayTracksElf.loc[frameIdx], df_homePlayersElf, df_awayPlayersElf, homeJerseyMappingElf, awayJerseyMappingElf\\\n",
    "                     ,include_player_velocities=True, annotate=True, team_colors=('r','y'), field_colour='green', PlayerAlpha=0.8)"
   ]
  },
  {
   "cell_type": "markdown",
   "metadata": {},
   "source": [
    "## **Combining 2.2) & 3) Nice view of breakaway goal: Goal 3 Vs Elfsborg**\n",
    "\n",
    "> Want another 15 second sequence that shows off the possibilities of tracking data\n",
    "\n",
    "> Will also combine this with the third part of the assignment to also calculate the distance to nearest teammate & opposition\n",
    "\n",
    "> And will start the focus on a handful of players to have a flowing narrative throughout the report"
   ]
  },
  {
   "cell_type": "markdown",
   "metadata": {},
   "source": [
    "### **Reloading Velocities**"
   ]
  },
  {
   "cell_type": "code",
   "execution_count": null,
   "metadata": {},
   "outputs": [],
   "source": [
    "%%time\n",
    "\n",
    "df_homeTracksElf = calc_player_velocities(df_homeTracksElf, pitchLengthElf, smoothing=True, filter_='Savitzky-Golay', window=7, polyorder=1, maxspeed = 12)\n",
    "df_awayTracksElf = calc_player_velocities(df_awayTracksElf, pitchLengthElf, smoothing=True, filter_='Savitzky-Golay', window=7, polyorder=1, maxspeed = 12)"
   ]
  },
  {
   "cell_type": "markdown",
   "metadata": {},
   "source": [
    "### **Starting with frames for third goal Vs Elfsborg**"
   ]
  },
  {
   "cell_type": "code",
   "execution_count": null,
   "metadata": {},
   "outputs": [],
   "source": [
    "frameIdx = 45020\n",
    "\n",
    "fig, ax = plot_frame(df_homeTracksElf.loc[frameIdx], df_awayTracksElf.loc[frameIdx], df_homePlayersElf, df_awayPlayersElf, homeJerseyMappingElf, awayJerseyMappingElf\\\n",
    "                     ,include_player_velocities=True, annotate=True, team_colors=('r','y'), field_colour='green', PlayerAlpha=0.8)"
   ]
  },
  {
   "cell_type": "code",
   "execution_count": null,
   "metadata": {},
   "outputs": [],
   "source": [
    "frameIdx = 45080\n",
    "\n",
    "fig, ax = plot_frame(df_homeTracksElf.loc[frameIdx], df_awayTracksElf.loc[frameIdx], df_homePlayersElf, df_awayPlayersElf, homeJerseyMappingElf, awayJerseyMappingElf\\\n",
    "                     ,include_player_velocities=True, annotate=True, team_colors=('r','y'), field_colour='green', PlayerAlpha=0.8)"
   ]
  },
  {
   "cell_type": "code",
   "execution_count": null,
   "metadata": {},
   "outputs": [],
   "source": [
    "frameIdx = 45105\n",
    "\n",
    "fig, ax = plot_frame(df_homeTracksElf.loc[frameIdx], df_awayTracksElf.loc[frameIdx], df_homePlayersElf, df_awayPlayersElf, homeJerseyMappingElf, awayJerseyMappingElf\\\n",
    "                     ,include_player_velocities=True, annotate=True, team_colors=('r','y'), field_colour='green', PlayerAlpha=0.8)"
   ]
  },
  {
   "cell_type": "code",
   "execution_count": null,
   "metadata": {},
   "outputs": [],
   "source": [
    "frameIdx = 45130\n",
    "\n",
    "fig, ax = plot_frame(df_homeTracksElf.loc[frameIdx], df_awayTracksElf.loc[frameIdx], df_homePlayersElf, df_awayPlayersElf, homeJerseyMappingElf, awayJerseyMappingElf\\\n",
    "                     ,include_player_velocities=True, annotate=True, team_colors=('r','y'), field_colour='green', PlayerAlpha=0.8)"
   ]
  },
  {
   "cell_type": "code",
   "execution_count": null,
   "metadata": {},
   "outputs": [],
   "source": [
    "frameIdx = 45175\n",
    "\n",
    "fig, ax = plot_frame(df_homeTracksElf.loc[frameIdx], df_awayTracksElf.loc[frameIdx], df_homePlayersElf, df_awayPlayersElf, homeJerseyMappingElf, awayJerseyMappingElf\\\n",
    "                     ,include_player_velocities=True, annotate=True, team_colors=('r','y'), field_colour='green', PlayerAlpha=0.8)"
   ]
  },
  {
   "cell_type": "code",
   "execution_count": null,
   "metadata": {},
   "outputs": [],
   "source": [
    "frameIdx = 45213\n",
    "\n",
    "fig, ax = plot_frame(df_homeTracksElf.loc[frameIdx], df_awayTracksElf.loc[frameIdx], df_homePlayersElf, df_awayPlayersElf, homeJerseyMappingElf, awayJerseyMappingElf\\\n",
    "                     ,include_player_velocities=True, annotate=True, team_colors=('r','y'), field_colour='green', PlayerAlpha=0.8)"
   ]
  },
  {
   "cell_type": "markdown",
   "metadata": {},
   "source": [
    "## **Khalili's second goal Vs IF Elfsborg: distance, velocity, acceleration, nearest teammate & opponent plots**"
   ]
  },
  {
   "cell_type": "code",
   "execution_count": null,
   "metadata": {},
   "outputs": [],
   "source": [
    "# starting with the great goal viz dataframe and adding the away team\n",
    "niceGoalStart = 45000\n",
    "niceGoalFinish = niceGoalStart + (15*25 - 1)\n",
    "\n",
    "df_homeGoal = df_homeTracksElf.loc[niceGoalStart:niceGoalFinish]\n",
    "df_awayGoal = df_awayTracksElf.loc[niceGoalStart:niceGoalFinish]\n",
    "\n",
    "def player_distance(x1, y1, x2, y2):\n",
    "    \"\"\"\n",
    "    Function to calculate the distance between players\n",
    "    \"\"\"\n",
    "    \n",
    "    delta_x = x2-x1\n",
    "    delta_y = y2-y1\n",
    "\n",
    "    return np.sqrt(delta_x**2 + delta_y**2)\n",
    "\n",
    "# home and away cols\n",
    "homeCols = df_homeGoal.columns\n",
    "awayCols = df_awayGoal.columns\n",
    "\n",
    "# regex pattern to pick out positional cols\n",
    "positionPattern = r'^(Home|Away)_(\\d+)_[xy]'\n",
    "\n",
    "#using default dicts to store the positional cols against the playerIndexes\n",
    "dic_home = defaultdict(lambda: [])\n",
    "dic_away = defaultdict(lambda: [])\n",
    "\n",
    "# producing home & away dictionaries\n",
    "## keys are playerIndices\n",
    "## values are lists of the x and y column names for the positional cols\n",
    "for h in homeCols:\n",
    "    colMatch = re.match(positionPattern, h)\n",
    "    if colMatch:\n",
    "        dic_home[colMatch.group(2)].append(h)\n",
    "        \n",
    "for a in awayCols:\n",
    "    colMatch = re.match(positionPattern, a)\n",
    "    if colMatch:\n",
    "        dic_away[colMatch.group(2)].append(a)\n",
    "\n",
    "# combining home and away dataframes\n",
    "df_homeAwayGoal = df_homeGoal\\\n",
    "                    .drop(columns=['ball_x','ball_y','ball_z','matchId','matchName','Period','Time [s]','ball_jerseyPossession','index','halfIndex','TimeStamp'])\\\n",
    "                    .merge(df_awayGoal, left_index=True, right_index=True, suffixes=('_home','_away'))\n",
    "\n",
    "# adding four new columns per home player\n",
    "## one for the nearest teammate distance\n",
    "## one for nearest teammate playerIndex\n",
    "## one for nearest opposition distance\n",
    "## one for nearest opposition playerIndex\n",
    "for player in dic_home:\n",
    "    df_homeAwayGoal[f'Home_{player}_nearestTeammateDist'] = np.nan\n",
    "    df_homeAwayGoal[f'Home_{player}_nearestTeammateIndex'] = np.nan\n",
    "    df_homeAwayGoal[f'Home_{player}_nearestOppositionDist'] = np.nan\n",
    "    df_homeAwayGoal[f'Home_{player}_nearestOppositionIndex'] = np.nan\n",
    "\n",
    "\n",
    "##############################################################################################################################\n",
    "##########                                      NEAREST NEIGHBOURS ALGORITHM                                        ##########\n",
    "##############################################################################################################################\n",
    "\n",
    "# looping through each frame\n",
    "for idx, cols in df_homeAwayGoal.iterrows():\n",
    "    \n",
    "    # looping through each home player\n",
    "    for player in dic_home:\n",
    "        player_xCol, player_yCol = dic_home[player]\n",
    "        player_x, player_y = cols[player_xCol], cols[player_yCol]\n",
    "        \n",
    "        # setting a max distance for teammate and opposition\n",
    "        closestTeammateDistance = 1e6\n",
    "        closestOppositionDistance = 1e6\n",
    "        closestTeammate = 0\n",
    "        closestOpposition = 0\n",
    "\n",
    "        # looping through teammates\n",
    "        for teammate in dic_home:\n",
    "            \n",
    "            # only interested in other teammates (otherwise you'll always be closest to yourself)\n",
    "            if player != teammate:\n",
    "                teammate_xCol, teammate_yCol = dic_home[teammate]\n",
    "                teammate_x, teammate_y = cols[teammate_xCol], cols[teammate_yCol]\n",
    "                teammateDist = player_distance(player_x, player_y, teammate_x, teammate_y)\n",
    "                \n",
    "                if teammateDist < closestTeammateDistance:\n",
    "                    closestTeammateDistance = teammateDist\n",
    "                    closestTeammate = teammate\n",
    "\n",
    "        for opposition in dic_away:\n",
    "            opposition_xCol, opposition_yCol = dic_away[opposition]\n",
    "            opposition_x, opposition_y = cols[opposition_xCol], cols[opposition_yCol]\n",
    "            oppositionDist = player_distance(player_x, player_y, opposition_x, opposition_y)\n",
    "            \n",
    "            if oppositionDist < closestOppositionDistance:\n",
    "                closestOppositionDistance = oppositionDist\n",
    "                closestOpposition = opposition\n",
    "                \n",
    "        df_homeAwayGoal.loc[idx, f'Home_{player}_nearestTeammateDist'] = closestTeammateDistance\n",
    "        df_homeAwayGoal.loc[idx, f'Home_{player}_nearestTeammateIndex'] = closestTeammate\n",
    "        df_homeAwayGoal.loc[idx, f'Home_{player}_nearestOppositionDist'] = closestOppositionDistance\n",
    "        df_homeAwayGoal.loc[idx, f'Home_{player}_nearestOppositionIndex'] = closestOpposition\n",
    "\n",
    "print ('Done.')"
   ]
  },
  {
   "cell_type": "markdown",
   "metadata": {},
   "source": [
    "## Plotting"
   ]
  },
  {
   "cell_type": "code",
   "execution_count": null,
   "metadata": {},
   "outputs": [],
   "source": [
    "fig, (ax1, ax2, ax3, ax4, ax5) = plt.subplots(5, sharex=True, figsize=(50,70))\n",
    "\n",
    "# getting x indices\n",
    "x_ = (df_homeGoal.index/(25*60))\n",
    "\n",
    "# code to help pick out specific jerseys\n",
    "pattern = r'Home_(\\d+)_'\n",
    "homePlayerIndexMapping = {homeJerseyMappingElf[i]:i for i in homeJerseyMappingElf}\n",
    "awayPlayerIndexMapping = {awayJerseyMappingElf[i]:i for i in awayJerseyMappingElf}\n",
    "\n",
    "#specifying jerseys of interest\n",
    "lstJerseysInterest = [6,22,7,40]\n",
    "\n",
    "# picking out columns for displacement to goal, speed, acceleration\n",
    "D_cols = [i for i in df_homeGoal if i[-1] == 'D']\n",
    "v_cols = [i for i in df_homeGoal if i[-5:] == 'speed']\n",
    "a_cols = [i for i in df_homeGoal if i[-12:] == 'acceleration']\n",
    "\n",
    "# filtering above columns for specific jerseys of interest\n",
    "D_cols = [i for i in D_cols if homePlayerIndexMapping[int(re.search(pattern, i).group(1))] in lstJerseysInterest]\n",
    "v_cols = [i for i in v_cols if homePlayerIndexMapping[int(re.search(pattern, i).group(1))] in lstJerseysInterest]\n",
    "a_cols = [i for i in a_cols if homePlayerIndexMapping[int(re.search(pattern, i).group(1))] in lstJerseysInterest]\n",
    "\n",
    "# plotting specific player distance to goal, speed, and acceleration\n",
    "for player in D_cols:\n",
    "    ax1.plot(x_, df_homeGoal[player], lw=3)\n",
    "    \n",
    "for player in v_cols:\n",
    "    \n",
    "    jNumber = homePlayerIndexMapping[int(re.search(pattern, player).group(1))]\n",
    "    pName = df_homePlayersElf.loc[df_homePlayersElf['jersey_number'] == jNumber].name.values[0]\n",
    "    ax2.plot(x_, df_homeGoal[player], lw=3, label = f'{pName} (#{jNumber})')\n",
    "    \n",
    "for player in a_cols:\n",
    "    ax3.plot(x_, df_homeGoal[player], lw=3)\n",
    "\n",
    "    \n",
    "\n",
    "# getting the player labels for the below plots\n",
    "closestTeammateLabels = [homePlayerIndexMapping[int(i)] for i in df_homeAwayGoal.Home_9_nearestTeammateIndex]\n",
    "closestOppositionLabels = [awayPlayerIndexMapping[int(i)] for i in df_homeAwayGoal.Home_9_nearestOppositionIndex]\n",
    "\n",
    "# Plotting Closest Teammates\n",
    "ax4.scatter(x_, df_homeAwayGoal.Home_9_nearestTeammateDist, c=closestTeammateLabels, alpha=0.7)\n",
    "\n",
    "# Labelling teammates on the chart\n",
    "prevName = None\n",
    "overUnder = -1\n",
    "for i, j, k in zip(x_, df_homeAwayGoal.Home_9_nearestTeammateDist, closestTeammateLabels):\n",
    "    \n",
    "    pName = df_homePlayersElf.loc[df_homePlayersElf['jersey_number'] == k].name.values[0]\n",
    "    \n",
    "    if k != prevName:\n",
    "        ax4.annotate(pName, (i, j+1.5*overUnder - 0.5), fontsize=18)\n",
    "        overUnder *= -1\n",
    "        \n",
    "    prevName = k\n",
    "    \n",
    "\n",
    "# Plotting Opposition\n",
    "ax5.scatter(x_, df_homeAwayGoal.Home_9_nearestOppositionDist, c=[np.log(i)*20000 for i in closestOppositionLabels], alpha=0.7)\n",
    "\n",
    "# Labelling opposition players on the chart\n",
    "prevName = None\n",
    "overUnder = 1\n",
    "for i, j, k in zip(x_, df_homeAwayGoal.Home_9_nearestOppositionDist, closestOppositionLabels):\n",
    "    \n",
    "    pName = df_awayPlayersElf.loc[df_awayPlayersElf['jersey_number'] == k].name.values[0]\n",
    "    \n",
    "    if k != prevName:\n",
    "        ax5.annotate(pName, (i, j+1.5*overUnder - 3), fontsize=18)\n",
    "        \n",
    "    prevName = k\n",
    "\n",
    "\n",
    "ax1.set_ylabel(r'Distance from Goal (m)', fontsize=22)\n",
    "ax2.set_ylabel(r'Speed (ms$^{-1}$)', fontsize=22)\n",
    "ax3.set_ylabel(r'Acceleration (ms$^{-2}$)', fontsize=22)\n",
    "ax4.set_ylabel(r'Closest Teammate (m)', fontsize=22)\n",
    "ax5.set_ylabel(r'Closest Opposition (m)', fontsize=22)\n",
    "\n",
    "# transforming ticks from min.min to min:secs\n",
    "existingTicks = ax5.get_xticks()\n",
    "newTicks = [\"%02dm:%02ds\" % (int(i), (i*60)%60) for i in existingTicks]\n",
    "ax5.set_xticklabels(newTicks, fontsize=20)\n",
    "\n",
    "# setting y-axis tick label size\n",
    "ax1.set_yticklabels(ax1.get_yticks(), fontsize=20)\n",
    "ax2.set_yticklabels(ax2.get_yticks(), fontsize=20)\n",
    "ax3.set_yticklabels(ax3.get_yticks(), fontsize=20)\n",
    "ax4.set_yticklabels(ax4.get_yticks(), fontsize=20)\n",
    "ax5.set_yticklabels(ax5.get_yticks(), fontsize=20)\n",
    "\n",
    "\n",
    "# plotting the main actions\n",
    "\n",
    "# pass\n",
    "ax1.vlines(x=45080/(25*60), ymin=10, ymax=50, color='grey', alpha = 0.3)\n",
    "ax2.vlines(x=45080/(25*60), ymin=0, ymax=6.5, label='Pass #6 -> #22', color='grey', alpha = 0.3)\n",
    "ax3.vlines(x=45080/(25*60), ymin=0, ymax=6, color='grey', alpha = 0.3)\n",
    "ax4.vlines(x=45080/(25*60), ymin=0, ymax=15, color='grey', alpha = 0.3)\n",
    "ax5.vlines(x=45080/(25*60), ymin=0, ymax=17, color='grey', alpha = 0.3)\n",
    "\n",
    "# assist\n",
    "ax1.vlines(x=45105/(25*60), ymin=10, ymax=50, color='grey', alpha = 0.6)\n",
    "ax2.vlines(x=45105/(25*60), ymin=0, ymax=6.5, label='Assist #22 -> #7', color='grey', alpha = 0.6)\n",
    "ax3.vlines(x=45105/(25*60), ymin=0, ymax=6, color='grey', alpha = 0.6)\n",
    "ax4.vlines(x=45105/(25*60), ymin=0, ymax=15, color='grey', alpha = 0.6)\n",
    "ax5.vlines(x=45105/(25*60), ymin=0, ymax=17, color='grey', alpha = 0.6)\n",
    "\n",
    "# goal\n",
    "ax1.vlines(x=45175/(25*60), ymin=10, ymax=50, color='grey', alpha = 0.9)\n",
    "ax2.vlines(x=45175/(25*60), ymin=0, ymax=6.5, label='Shot #7 -> Goal', color='grey', alpha = 0.9)\n",
    "ax3.vlines(x=45175/(25*60), ymin=0, ymax=6, color='grey', alpha = 0.9)\n",
    "ax4.vlines(x=45175/(25*60), ymin=0, ymax=15, color='grey', alpha = 0.9)\n",
    "ax5.vlines(x=45175/(25*60), ymin=0, ymax=17, color='grey', alpha = 0.9)\n",
    "\n",
    "fig.legend(loc='center right', fontsize=20)\n",
    "\n",
    "plt.savefig('NiceGoalAdded.pdf', dpi=300, format='pdf', bbox_inches='tight')\n"
   ]
  },
  {
   "cell_type": "markdown",
   "metadata": {},
   "source": [
    "## **4) Additional Run Metrics**\n",
    "\n",
    "**Building up our run statistics from simpler to more advanced statistics:**\n",
    "1. Number of runs and sprints per player;\n",
    "2. Number of runs and sprints broken down by run direction per player (forward, backward, left, right);\n",
    "3. Number of shearing runs by pairs of players running left and right at the same time in the opponents half / final third;\n",
    "4. Number of shearing runs pay pairs of players, where there's a forward run by a third player."
   ]
  },
  {
   "cell_type": "markdown",
   "metadata": {},
   "source": [
    "### **Vs Elfsborg**"
   ]
  },
  {
   "cell_type": "code",
   "execution_count": null,
   "metadata": {},
   "outputs": [],
   "source": [
    "df_summaryElf, df_shearElf, df_forward_shearElf = summarise_match_running(df_homePlayersElf, df_homeTracksElf, homeJerseyMappingElf, pitchLengthElf)"
   ]
  },
  {
   "cell_type": "markdown",
   "metadata": {},
   "source": [
    "### **Vs Malmo**"
   ]
  },
  {
   "cell_type": "code",
   "execution_count": null,
   "metadata": {},
   "outputs": [],
   "source": [
    "df_summaryMal, df_shearMal, df_forward_shearMal = summarise_match_running(df_homePlayersMal, df_homeTracksMal, homeJerseyMappingMal, pitchLengthMal)"
   ]
  },
  {
   "cell_type": "markdown",
   "metadata": {},
   "source": [
    "### **Vs Orebro**"
   ]
  },
  {
   "cell_type": "code",
   "execution_count": null,
   "metadata": {},
   "outputs": [],
   "source": [
    " df_summaryOre, df_shearOre, df_forward_shearOre = summarise_match_running(df_homePlayersOre, df_homeTracksOre, homeJerseyMappingOre, pitchLengthOre)\n",
    "    \n",
    "    "
   ]
  },
  {
   "cell_type": "markdown",
   "metadata": {},
   "source": [
    "### **Summarising per 90 mins over all games**"
   ]
  },
  {
   "cell_type": "code",
   "execution_count": null,
   "metadata": {},
   "outputs": [],
   "source": [
    "df_summary = pd.concat([df_summaryElf, df_summaryMal, df_summaryOre], ignore_index=True)\n",
    "df_summary['numMatches'] = 1\n",
    "df_summary = df_summary.groupby(['jersey_number','name'])\\\n",
    "            .agg({'numMatches':np.sum,'Minutes Played':np.sum,'Distance [km]':np.sum,'Walking [km]':np.sum,'Jogging [km]':np.sum\\\n",
    "                 ,'Running [km]':np.sum, 'Sprinting [km]':np.sum, 'numRuns':np.sum,'numSprints':np.sum\\\n",
    "                 ,'B':np.sum,'F':np.sum,'L':np.sum,'R':np.sum})\\\n",
    "            .reset_index()\n",
    "\n",
    "df_summary.iloc[:,4:14] = df_summary.iloc[:,4:14].div(df_summary.iloc[:,3], axis=0) * 90\n",
    "df_summary['pcForward'] = 100*df_summary['F'] / (df_summary['F'] + df_summary['B'] + df_summary['R'] + df_summary['L'])\n",
    "df_summary['pcSideToSide'] = 100*(df_summary['R'] + df_summary['L']) / (df_summary['F'] + df_summary['B'] + df_summary['R'] + df_summary['L'])\n",
    "\n",
    "df_summary = df_summary.loc[df_summary['Minutes Played'] > 45].round(1).sort_values('pcForward', ascending=False).reset_index(drop=True)\n",
    "\n",
    "df_summary"
   ]
  },
  {
   "cell_type": "markdown",
   "metadata": {},
   "source": [
    "### Top five by percent of forward runs"
   ]
  },
  {
   "cell_type": "code",
   "execution_count": null,
   "metadata": {},
   "outputs": [],
   "source": [
    "df_summary.round(1)[['name','F','B','L','R','pcForward']].head(5)"
   ]
  },
  {
   "cell_type": "code",
   "execution_count": null,
   "metadata": {},
   "outputs": [],
   "source": [
    "print(df_summary.round(0)[['name','F','B','L','R','pcForward']].head(5).to_latex(index=None))"
   ]
  },
  {
   "cell_type": "markdown",
   "metadata": {},
   "source": [
    "### Top five by percent of side-to-side runs"
   ]
  },
  {
   "cell_type": "code",
   "execution_count": null,
   "metadata": {},
   "outputs": [],
   "source": [
    "df_summary.sort_values('pcSideToSide', ascending=False).round(1)[['name','F','B','L','R','pcSideToSide']].head(6)"
   ]
  },
  {
   "cell_type": "code",
   "execution_count": null,
   "metadata": {},
   "outputs": [],
   "source": [
    "print(df_summary.sort_values('pcSideToSide', ascending=False).round(0)[['name','F','B','L','R','pcSideToSide']].head(6).to_latex(index=None))"
   ]
  },
  {
   "cell_type": "markdown",
   "metadata": {},
   "source": [
    "### **Summarising the shearing runs over the three games**"
   ]
  },
  {
   "cell_type": "code",
   "execution_count": null,
   "metadata": {},
   "outputs": [],
   "source": [
    "df_shear = pd.concat([df_shearElf, df_shearMal, df_shearOre], ignore_index=True)\n",
    "df_shear = df_shear.groupby(['jersey_number_main','jersey_number_other'])\\\n",
    "            .agg({'numberShearCombos':np.sum,'shearTime [s]':np.sum,'shearOverlapFraction':np.mean})\\\n",
    "            .sort_values('numberShearCombos', ascending=False)\\\n",
    "            .reset_index()\n",
    "\n",
    "df_shear[['jersey_number_main','jersey_number_other','numberShearCombos','shearTime [s]']].head(5)"
   ]
  },
  {
   "cell_type": "code",
   "execution_count": null,
   "metadata": {},
   "outputs": [],
   "source": [
    "print(df_shear[['jersey_number_main','jersey_number_other','numberShearCombos','shearTime [s]']].head(5).to_latex(index=None))"
   ]
  },
  {
   "cell_type": "markdown",
   "metadata": {},
   "source": [
    "---\n",
    "\n",
    "## **End Technical Assignment Qs**\n",
    "\n",
    "---\n",
    "\n",
    "&nbsp;\n",
    "\n",
    "&nbsp;\n",
    "\n",
    "&nbsp;"
   ]
  },
  {
   "cell_type": "markdown",
   "metadata": {},
   "source": [
    "---\n",
    "\n",
    "# **BACKGROUND RESEARCH**\n",
    "\n",
    "---\n",
    "\n",
    "\n",
    "&nbsp;\n",
    "\n",
    "&nbsp;\n",
    "\n",
    "&nbsp;\n",
    "\n",
    "# **Match 1**\n",
    "\n",
    "## **Vs IF Elfsborg**"
   ]
  },
  {
   "cell_type": "code",
   "execution_count": null,
   "metadata": {},
   "outputs": [],
   "source": [
    "%%time\n",
    "\n",
    "# load tracking data for a given match\n",
    "df_homePlayers, df_awayPlayers, df_homeTracks, df_awayTracks, pitchLength, pitchWidth, homeJerseyMapping, awayJerseyMapping = \\\n",
    "parse_raw_to_df(signalityRepo, '20190722.Hammarby-IFElfsborg', interpolate=True)\n",
    "\n",
    "df_homeTracks = calc_player_velocities(df_homeTracks, pitchLength, smoothing=True, filter_='Savitzky-Golay', window=7, polyorder=1, maxspeed = 12)\n",
    "df_awayTracks = calc_player_velocities(df_awayTracks, pitchLength, smoothing=True, filter_='Savitzky-Golay', window=7, polyorder=1, maxspeed = 12)"
   ]
  },
  {
   "cell_type": "markdown",
   "metadata": {},
   "source": [
    "## **Looking at interesting sequences**"
   ]
  },
  {
   "cell_type": "code",
   "execution_count": null,
   "metadata": {},
   "outputs": [],
   "source": [
    "df_events.loc[(df_events['matchId'] == 1035923) & (df_events['eventSubType'].str.contains('Goal'))]"
   ]
  },
  {
   "cell_type": "markdown",
   "metadata": {},
   "source": [
    "### Goal 1: 28:48\n",
    "\n",
    "> Data error: looks like the ball came off the defender to go to the player to make the assist, whereas actually it was very tight footwork by player #22"
   ]
  },
  {
   "cell_type": "code",
   "execution_count": null,
   "metadata": {},
   "outputs": [],
   "source": [
    "timeFrom = '2019-07-22 17:18:40.564'\n",
    "timeTo = '2019-07-22 17:19:09.564'\n",
    "\n",
    "df_trackingEvent = df_homeTracks.loc[(df_homeTracks['TimeStamp'] > timeFrom) & (df_homeTracks['TimeStamp'] < timeTo)]\n",
    "\n",
    "start, finish = df_trackingEvent.agg({'index':[np.min, np.max]}).reset_index(drop=True)['index'].values\n",
    "\n",
    "save_match_clip(df_homeTracks.loc[start:finish], df_awayTracks.loc[start:finish], movieRepo, fname='VsElfsborg_firstGoalHammarby', figax=None, frames_per_second=25, team_colors=('g','y')\\\n",
    "                ,field_dimen = (pitchLength, pitchWidth), include_player_velocities=True, PlayerMarkerSize=10, PlayerAlpha=0.8)"
   ]
  },
  {
   "cell_type": "markdown",
   "metadata": {},
   "source": [
    "### Goal 2 (OG from FK): 38:20\n",
    "\n",
    "Two issues with the data:\n",
    "\n",
    "1. Ball disappearing (linear interpolation) - but don't get a feel for curve of the vall\n",
    "2. Player from the pack darts out - you may think they'd dramatically left their defensive shape causing the exposure"
   ]
  },
  {
   "cell_type": "code",
   "execution_count": null,
   "metadata": {},
   "outputs": [],
   "source": [
    "timeFrom = '2019-07-22 17:28:07.564'\n",
    "timeTo = '2019-07-22 17:28:40.564'\n",
    "\n",
    "df_trackingEvent = df_homeTracks.loc[(df_homeTracks['TimeStamp'] > timeFrom) & (df_homeTracks['TimeStamp'] < timeTo)]\n",
    "\n",
    "start, finish = df_trackingEvent.agg({'index':[np.min, np.max]}).reset_index(drop=True)['index'].values\n",
    "\n",
    "save_match_clip(df_homeTracks.loc[start:finish], df_awayTracks.loc[start:finish], movieRepo, fname='VsElfsborg_secondGoalHammarby', figax=None, frames_per_second=25, team_colors=('g','y')\\\n",
    "                ,field_dimen = (pitchLength, pitchWidth), include_player_velocities=True, PlayerMarkerSize=10, PlayerAlpha=0.8)"
   ]
  },
  {
   "cell_type": "markdown",
   "metadata": {},
   "source": [
    "### Goal 3: 41:01\n",
    "\n",
    "> Reaction of Khalili is key\n",
    "> Maybe there's a metric for reaction time?"
   ]
  },
  {
   "cell_type": "code",
   "execution_count": null,
   "metadata": {},
   "outputs": [],
   "source": [
    "timeFrom = '2019-07-22 17:30:50.564'\n",
    "timeTo = '2019-07-22 17:31:21.564'\n",
    "\n",
    "df_trackingEvent = df_homeTracks.loc[(df_homeTracks['TimeStamp'] > timeFrom) & (df_homeTracks['TimeStamp'] < timeTo)]\n",
    "\n",
    "start, finish = df_trackingEvent.agg({'index':[np.min, np.max]}).reset_index(drop=True)['index'].values\n",
    "\n",
    "save_match_clip(df_homeTracks.loc[start:finish], df_awayTracks.loc[start:finish], movieRepo, fname='VsElfsborg_thirdGoalHammarby', figax=None, frames_per_second=25, team_colors=('g','y')\\\n",
    "                ,field_dimen = (pitchLength, pitchWidth), include_player_velocities=True, PlayerMarkerSize=10, PlayerAlpha=0.8)"
   ]
  },
  {
   "cell_type": "code",
   "execution_count": null,
   "metadata": {},
   "outputs": [],
   "source": [
    "df_trackingEvent.to_csv('VsElfsborg_thirdGoalHammarby.csv')"
   ]
  },
  {
   "cell_type": "markdown",
   "metadata": {},
   "source": [
    "---\n",
    "\n",
    "&nbsp;\n",
    "\n",
    "&nbsp;\n",
    "\n",
    "&nbsp;\n",
    "\n",
    "# **Match 2**\n",
    "\n",
    "## **Vs Malmo**"
   ]
  },
  {
   "cell_type": "code",
   "execution_count": null,
   "metadata": {},
   "outputs": [],
   "source": [
    "%%time\n",
    "\n",
    "# load tracking data for a given match\n",
    "df_homePlayers, df_awayPlayers, df_homeTracks, df_awayTracks, pitchLength, pitchWidth, homeJerseyMapping, awayJerseyMapping = \\\n",
    "parse_raw_to_df(signalityRepo, '20191020.Hammarby-MalmöFF', interpolate=True)\n",
    "\n",
    "df_homeTracks = calc_player_velocities(df_homeTracks, smoothing=True, filter_='Savitzky-Golay', window=7, polyorder=1, maxspeed = 12)\n",
    "df_awayTracks = calc_player_velocities(df_awayTracks, smoothing=True, filter_='Savitzky-Golay', window=7, polyorder=1, maxspeed = 12)"
   ]
  },
  {
   "cell_type": "markdown",
   "metadata": {},
   "source": [
    "## **Looking at interesting sequences**"
   ]
  },
  {
   "cell_type": "code",
   "execution_count": null,
   "metadata": {},
   "outputs": [],
   "source": [
    "df_events.loc[(df_events['matchId'] == 1036019) & (df_events['eventSubType'].str.contains('Goal'))]"
   ]
  },
  {
   "cell_type": "markdown",
   "metadata": {},
   "source": [
    "### Goal 1: 25:20\n",
    "\n",
    "> Ball doesn't actually go in the back of the net."
   ]
  },
  {
   "cell_type": "code",
   "execution_count": null,
   "metadata": {},
   "outputs": [],
   "source": [
    "timeFrom = '2019-10-20 13:15:20.123'\n",
    "timeTo = '2019-10-20 13:16:20.123'\n",
    "\n",
    "df_trackingEvent = df_homeTracks.loc[(df_homeTracks['TimeStamp'] > timeFrom) & (df_homeTracks['TimeStamp'] < timeTo)]\n",
    "\n",
    "start, finish = df_trackingEvent.agg({'index':[np.min, np.max]}).reset_index(drop=True)['index'].values\n",
    "\n",
    "save_match_clip(df_homeTracks.loc[start:finish], df_awayTracks.loc[start:finish], movieRepo, fname='VsMalmo_firstGoalHammarby', figax=None, frames_per_second=25, team_colors=('r','b')\\\n",
    "                ,field_dimen = (pitchLength, pitchWidth), include_player_velocities=True, PlayerMarkerSize=10, PlayerAlpha=0.7)"
   ]
  },
  {
   "cell_type": "markdown",
   "metadata": {},
   "source": [
    "### Goal 2: https://www.youtube.com/watch?v=Q7OEEZGN-Bk\n",
    "\n",
    "> Bad DQ for ball in flight"
   ]
  },
  {
   "cell_type": "code",
   "execution_count": null,
   "metadata": {},
   "outputs": [],
   "source": [
    "timeFrom = '2019-10-20 14:48:00.123'\n",
    "timeTo = '2019-10-20 14:49:00.123'\n",
    "\n",
    "df_trackingEvent = df_homeTracks.loc[(df_homeTracks['TimeStamp'] > timeFrom) & (df_homeTracks['TimeStamp'] < timeTo)]\n",
    "\n",
    "start, finish = df_trackingEvent.agg({'index':[np.min, np.max]}).reset_index(drop=True)['index'].values\n",
    "\n",
    "save_match_clip(df_homeTracks.loc[start:finish], df_awayTracks.loc[start:finish], movieRepo, fname='VsMalmo_secondGoalHammarby', figax=None, frames_per_second=25, team_colors=('r','b')\\\n",
    "                ,field_dimen = (pitchLength, pitchWidth), include_player_velocities=True, PlayerMarkerSize=10, PlayerAlpha=0.7)"
   ]
  },
  {
   "cell_type": "code",
   "execution_count": null,
   "metadata": {},
   "outputs": [],
   "source": [
    "## Looking at ball flight z-axis\n",
    "sum(df_trackingEvent.ball_z.values)"
   ]
  },
  {
   "cell_type": "code",
   "execution_count": null,
   "metadata": {},
   "outputs": [],
   "source": [
    "df_trackingEvent"
   ]
  },
  {
   "cell_type": "code",
   "execution_count": null,
   "metadata": {},
   "outputs": [],
   "source": [
    "frameIdx = 58302\n",
    "plot_frame( df_homeTracks.loc[frameIdx], df_awayTracks.loc[frameIdx], team_colors=('r','b'), field_dimen = (pitchLength,pitchWidth), include_player_velocities=True, annotate=True)"
   ]
  },
  {
   "cell_type": "markdown",
   "metadata": {},
   "source": [
    "---\n",
    "\n",
    "&nbsp;\n",
    "\n",
    "&nbsp;\n",
    "\n",
    "&nbsp;\n",
    "\n",
    "# **Match 3**\n",
    "\n",
    "## **Vs Orebro**"
   ]
  },
  {
   "cell_type": "code",
   "execution_count": null,
   "metadata": {},
   "outputs": [],
   "source": [
    "%%time\n",
    "\n",
    "# load tracking data for a given match\n",
    "df_homePlayers, df_awayPlayers, df_homeTracks, df_awayTracks, pitchLength, pitchWidth, homeJerseyMapping, awayJerseyMapping = \\\n",
    "parse_raw_to_df(signalityRepo, '20190930.Hammarby-Örebrö', interpolate=True)"
   ]
  },
  {
   "cell_type": "markdown",
   "metadata": {},
   "source": [
    "## **Applying Velocity and Acceleration Functions**"
   ]
  },
  {
   "cell_type": "code",
   "execution_count": null,
   "metadata": {},
   "outputs": [],
   "source": [
    "%%time\n",
    "\n",
    "df_homeTracks = calc_player_velocities(df_homeTracks, smoothing=True, filter_='Savitzky-Golay', window=7, polyorder=1, maxspeed = 12)\n",
    "df_awayTracks = calc_player_velocities(df_awayTracks, smoothing=True, filter_='Savitzky-Golay', window=7, polyorder=1, maxspeed = 12)"
   ]
  },
  {
   "cell_type": "markdown",
   "metadata": {},
   "source": [
    "## **Looking at interesting sequences**"
   ]
  },
  {
   "cell_type": "code",
   "execution_count": null,
   "metadata": {},
   "outputs": [],
   "source": [
    "df_events.loc[(df_events['matchId'] == 1036003) & (df_events['eventSubType'].str.contains('Goal'))]"
   ]
  },
  {
   "cell_type": "markdown",
   "metadata": {},
   "source": [
    "### Goal 1: Another dodgy ball tracking goal\n",
    "\n",
    "> Ball never makes it into the box!"
   ]
  },
  {
   "cell_type": "code",
   "execution_count": null,
   "metadata": {},
   "outputs": [],
   "source": [
    "timeFrom = '2019-09-30 17:39:30.123'\n",
    "timeTo = '2019-09-30 17:40:00.123'\n",
    "\n",
    "df_trackingEvent = df_homeTracks.loc[(df_homeTracks['TimeStamp'] > timeFrom) & (df_homeTracks['TimeStamp'] < timeTo)]\n",
    "\n",
    "start, finish = df_trackingEvent.agg({'index':[np.min, np.max]}).reset_index(drop=True)['index'].values\n",
    "\n",
    "save_match_clip(df_homeTracks.loc[start:finish], df_awayTracks.loc[start:finish], movieRepo, fname='VsOrebro_firstGoalHammarby', figax=None, frames_per_second=25, team_colors=('r','b')\\\n",
    "                ,field_dimen = (pitchLength, pitchWidth), include_player_velocities=True, PlayerMarkerSize=10, PlayerAlpha=0.7)"
   ]
  },
  {
   "cell_type": "markdown",
   "metadata": {},
   "source": [
    "### Goal 1 Opposition: Overhead kick: 10 minutes in https://www.youtube.com/watch?v=5aPEiX-UCZc"
   ]
  },
  {
   "cell_type": "code",
   "execution_count": null,
   "metadata": {},
   "outputs": [],
   "source": [
    "timeFrom = '2019-09-30 17:11:30.123'\n",
    "timeTo = '2019-09-30 17:12:00.123'\n",
    "\n",
    "df_trackingEvent = df_homeTracks.loc[(df_homeTracks['TimeStamp'] > timeFrom) & (df_homeTracks['TimeStamp'] < timeTo)]\n",
    "\n",
    "start, finish = df_trackingEvent.agg({'index':[np.min, np.max]}).reset_index(drop=True)['index'].values\n",
    "\n",
    "save_match_clip(df_homeTracks.loc[start:finish], df_awayTracks.loc[start:finish], movieRepo, fname='VsOrebro_firstGoalOrebro', figax=None, frames_per_second=25, team_colors=('r','b')\\\n",
    "                ,field_dimen = (pitchLength, pitchWidth), include_player_velocities=True, PlayerMarkerSize=10, PlayerAlpha=0.7)"
   ]
  },
  {
   "cell_type": "markdown",
   "metadata": {},
   "source": [
    "## Ball out of play error"
   ]
  },
  {
   "cell_type": "code",
   "execution_count": null,
   "metadata": {},
   "outputs": [],
   "source": [
    "frameIdx = 16235\n",
    "\n",
    "fig, ax = plot_frame(df_homeTracks.loc[frameIdx], df_awayTracks.loc[frameIdx], df_homePlayers, df_awayPlayers, homeJerseyMapping, awayJerseyMapping\\\n",
    "                     ,include_player_velocities=True, annotate=True, team_colors=('r','k'), field_colour='green', PlayerAlpha=0.8)"
   ]
  }
 ],
 "metadata": {
  "kernelspec": {
   "display_name": "py37_football",
   "language": "python",
   "name": "py37_football"
  },
  "language_info": {
   "codemirror_mode": {
    "name": "ipython",
    "version": 3
   },
   "file_extension": ".py",
   "mimetype": "text/x-python",
   "name": "python",
   "nbconvert_exporter": "python",
   "pygments_lexer": "ipython3",
   "version": "3.7.8"
  }
 },
 "nbformat": 4,
 "nbformat_minor": 2
}
